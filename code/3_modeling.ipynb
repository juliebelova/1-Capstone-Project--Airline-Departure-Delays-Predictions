{
 "cells": [
  {
   "cell_type": "markdown",
   "metadata": {},
   "source": [
    "# Capstone Project: Airline Departure Delays\n",
    "## Notebook III (Modeling)\n"
   ]
  },
  {
   "cell_type": "markdown",
   "metadata": {},
   "source": [
    "Author: Julie Vovchenko"
   ]
  },
  {
   "cell_type": "markdown",
   "metadata": {},
   "source": [
    "---"
   ]
  },
  {
   "cell_type": "markdown",
   "metadata": {},
   "source": [
    "## Table of Content:\n",
    "- [Feature Engineering](#Feature-Engineering)\n",
    "    - [Prior Flight Information](#Prior-Flight-Information)\n",
    "        - [Same Day Flight Count](#Same-Day-Flight-Count)\n",
    "        - [Same Day Prior Origin, Delay, Hour](#Same-Day-Prior-Origin,-Delay,-Hour)\n",
    "    - [Cyclical-Features](#Cyclical-Features)\n",
    "    - [Features Summary](#Features-Summary)\n",
    "    - [Interactions](#Interactions)\n",
    "    - [Dummy Variables](#Dummy-Variables)\n",
    "- [Modeling](#Modeling)\n",
    "    - [Baseline Model](#Baseline-Model)\n",
    "    - [Logistic Regression](#Logistic-Regression)\n",
    "    - [Random Forest](#Random-Forest)\n",
    "    - [AdaBoost](#AdaBoost)\n",
    "    - [Gaussian Naive Bayes](#Gaussian-Naive-Bayes)\n",
    "    - [Feed Forward Neural Network](#Feed-Forward-Neural-Network)\n",
    "-  [Model Selection](#Model-Selection)     \n",
    "    -  [Confusion Matrix](#Confusion-Matrix)     \n",
    "    -  [Precision-Recall Curve](#Precision-Recall-Curve)     \n",
    "    -  [Coefficients](#Coefficients)  \n",
    "-  [Conclusion and Recommendations](#Conclusion-and-Recommendations) \n",
    "-  [Next Steps](#Next-Steps) \n",
    "-  [References](#References)\n",
    "\n",
    "## Dataset\n",
    "\n",
    "- [Cleaned Data for 2018(Final)](https://drive.google.com/open?id=1JBU4TLi5_JbYPWrBWycGbkM4DvN8mPrS)"
   ]
  },
  {
   "cell_type": "code",
   "execution_count": 1,
   "metadata": {},
   "outputs": [
    {
     "name": "stderr",
     "output_type": "stream",
     "text": [
      "Using TensorFlow backend.\n"
     ]
    }
   ],
   "source": [
    "# Import our libraries.\n",
    "import pandas as pd\n",
    "import numpy as np\n",
    "import matplotlib.pyplot as plt\n",
    "import seaborn as sns\n",
    "import datetime, time, pickle\n",
    "\n",
    "# Import from sklearn.\n",
    "from sklearn.model_selection import train_test_split, GridSearchCV\n",
    "from sklearn.linear_model import LogisticRegression\n",
    "from sklearn.preprocessing import LabelEncoder\n",
    "from sklearn.pipeline import Pipeline\n",
    "from sklearn.ensemble import RandomForestClassifier, AdaBoostClassifier\n",
    "from sklearn.preprocessing import StandardScaler\n",
    "from sklearn.metrics import confusion_matrix\n",
    "from sklearn.metrics import precision_recall_curve, auc\n",
    "from sklearn.metrics import average_precision_score\n",
    "from sklearn.metrics import plot_precision_recall_curve\n",
    "from keras.models import Sequential\n",
    "from keras.layers import Dense, Dropout\n",
    "import tensorflow\n",
    "from tensorflow.keras.metrics import AUC\n",
    "\n",
    "\n",
    "\n",
    "%matplotlib inline"
   ]
  },
  {
   "cell_type": "code",
   "execution_count": 2,
   "metadata": {},
   "outputs": [
    {
     "data": {
      "text/plain": [
       "(7096846, 56)"
      ]
     },
     "execution_count": 2,
     "metadata": {},
     "output_type": "execute_result"
    }
   ],
   "source": [
    "# Reading Carrier On-Time Performance Statistic table for 2018\n",
    "df = pd.read_csv('../data/2018_reporting_clean_final.csv')\n",
    "df.shape"
   ]
  },
  {
   "cell_type": "code",
   "execution_count": 3,
   "metadata": {},
   "outputs": [
    {
     "data": {
      "text/html": [
       "<div>\n",
       "<style scoped>\n",
       "    .dataframe tbody tr th:only-of-type {\n",
       "        vertical-align: middle;\n",
       "    }\n",
       "\n",
       "    .dataframe tbody tr th {\n",
       "        vertical-align: top;\n",
       "    }\n",
       "\n",
       "    .dataframe thead th {\n",
       "        text-align: right;\n",
       "    }\n",
       "</style>\n",
       "<table border=\"1\" class=\"dataframe\">\n",
       "  <thead>\n",
       "    <tr style=\"text-align: right;\">\n",
       "      <th></th>\n",
       "      <th>YEAR</th>\n",
       "      <th>QUARTER</th>\n",
       "      <th>MONTH</th>\n",
       "      <th>DAY_OF_MONTH</th>\n",
       "      <th>DAY_OF_WEEK</th>\n",
       "      <th>FL_DATE</th>\n",
       "      <th>OP_UNIQUE_CARRIER</th>\n",
       "      <th>OP_CARRIER_AIRLINE_ID</th>\n",
       "      <th>OP_CARRIER</th>\n",
       "      <th>TAIL_NUM</th>\n",
       "      <th>...</th>\n",
       "      <th>ARR_TIME_BLK</th>\n",
       "      <th>DIVERTED</th>\n",
       "      <th>CRS_ELAPSED_TIME</th>\n",
       "      <th>ACTUAL_ELAPSED_TIME</th>\n",
       "      <th>AIR_TIME</th>\n",
       "      <th>DISTANCE</th>\n",
       "      <th>DISTANCE_GROUP</th>\n",
       "      <th>DIV_AIRPORT_LANDINGS</th>\n",
       "      <th>CRS_DEP_TIME_HR</th>\n",
       "      <th>CRS_ARR_TIME_HR</th>\n",
       "    </tr>\n",
       "  </thead>\n",
       "  <tbody>\n",
       "    <tr>\n",
       "      <th>0</th>\n",
       "      <td>2018</td>\n",
       "      <td>1</td>\n",
       "      <td>1</td>\n",
       "      <td>27</td>\n",
       "      <td>6</td>\n",
       "      <td>2018-01-27</td>\n",
       "      <td>UA</td>\n",
       "      <td>19977</td>\n",
       "      <td>UA</td>\n",
       "      <td>N26232</td>\n",
       "      <td>...</td>\n",
       "      <td>0800-0859</td>\n",
       "      <td>0.0</td>\n",
       "      <td>173.0</td>\n",
       "      <td>174.0</td>\n",
       "      <td>148.0</td>\n",
       "      <td>966.0</td>\n",
       "      <td>4</td>\n",
       "      <td>0.0</td>\n",
       "      <td>6</td>\n",
       "      <td>8</td>\n",
       "    </tr>\n",
       "    <tr>\n",
       "      <th>1</th>\n",
       "      <td>2018</td>\n",
       "      <td>1</td>\n",
       "      <td>1</td>\n",
       "      <td>27</td>\n",
       "      <td>6</td>\n",
       "      <td>2018-01-27</td>\n",
       "      <td>UA</td>\n",
       "      <td>19977</td>\n",
       "      <td>UA</td>\n",
       "      <td>N477UA</td>\n",
       "      <td>...</td>\n",
       "      <td>0800-0859</td>\n",
       "      <td>0.0</td>\n",
       "      <td>133.0</td>\n",
       "      <td>119.0</td>\n",
       "      <td>98.0</td>\n",
       "      <td>679.0</td>\n",
       "      <td>3</td>\n",
       "      <td>0.0</td>\n",
       "      <td>6</td>\n",
       "      <td>8</td>\n",
       "    </tr>\n",
       "    <tr>\n",
       "      <th>2</th>\n",
       "      <td>2018</td>\n",
       "      <td>1</td>\n",
       "      <td>1</td>\n",
       "      <td>27</td>\n",
       "      <td>6</td>\n",
       "      <td>2018-01-27</td>\n",
       "      <td>UA</td>\n",
       "      <td>19977</td>\n",
       "      <td>UA</td>\n",
       "      <td>N13720</td>\n",
       "      <td>...</td>\n",
       "      <td>1100-1159</td>\n",
       "      <td>0.0</td>\n",
       "      <td>217.0</td>\n",
       "      <td>220.0</td>\n",
       "      <td>190.0</td>\n",
       "      <td>1208.0</td>\n",
       "      <td>5</td>\n",
       "      <td>0.0</td>\n",
       "      <td>8</td>\n",
       "      <td>11</td>\n",
       "    </tr>\n",
       "    <tr>\n",
       "      <th>3</th>\n",
       "      <td>2018</td>\n",
       "      <td>1</td>\n",
       "      <td>1</td>\n",
       "      <td>27</td>\n",
       "      <td>6</td>\n",
       "      <td>2018-01-27</td>\n",
       "      <td>UA</td>\n",
       "      <td>19977</td>\n",
       "      <td>UA</td>\n",
       "      <td>N16217</td>\n",
       "      <td>...</td>\n",
       "      <td>1200-1259</td>\n",
       "      <td>0.0</td>\n",
       "      <td>240.0</td>\n",
       "      <td>241.0</td>\n",
       "      <td>212.0</td>\n",
       "      <td>1744.0</td>\n",
       "      <td>7</td>\n",
       "      <td>0.0</td>\n",
       "      <td>6</td>\n",
       "      <td>12</td>\n",
       "    </tr>\n",
       "    <tr>\n",
       "      <th>4</th>\n",
       "      <td>2018</td>\n",
       "      <td>1</td>\n",
       "      <td>1</td>\n",
       "      <td>27</td>\n",
       "      <td>6</td>\n",
       "      <td>2018-01-27</td>\n",
       "      <td>UA</td>\n",
       "      <td>19977</td>\n",
       "      <td>UA</td>\n",
       "      <td>N33714</td>\n",
       "      <td>...</td>\n",
       "      <td>2000-2059</td>\n",
       "      <td>0.0</td>\n",
       "      <td>141.0</td>\n",
       "      <td>131.0</td>\n",
       "      <td>112.0</td>\n",
       "      <td>820.0</td>\n",
       "      <td>4</td>\n",
       "      <td>0.0</td>\n",
       "      <td>18</td>\n",
       "      <td>20</td>\n",
       "    </tr>\n",
       "  </tbody>\n",
       "</table>\n",
       "<p>5 rows × 56 columns</p>\n",
       "</div>"
      ],
      "text/plain": [
       "   YEAR  QUARTER  MONTH  DAY_OF_MONTH  DAY_OF_WEEK     FL_DATE  \\\n",
       "0  2018        1      1            27            6  2018-01-27   \n",
       "1  2018        1      1            27            6  2018-01-27   \n",
       "2  2018        1      1            27            6  2018-01-27   \n",
       "3  2018        1      1            27            6  2018-01-27   \n",
       "4  2018        1      1            27            6  2018-01-27   \n",
       "\n",
       "  OP_UNIQUE_CARRIER  OP_CARRIER_AIRLINE_ID OP_CARRIER TAIL_NUM  ...  \\\n",
       "0                UA                  19977         UA   N26232  ...   \n",
       "1                UA                  19977         UA   N477UA  ...   \n",
       "2                UA                  19977         UA   N13720  ...   \n",
       "3                UA                  19977         UA   N16217  ...   \n",
       "4                UA                  19977         UA   N33714  ...   \n",
       "\n",
       "   ARR_TIME_BLK  DIVERTED  CRS_ELAPSED_TIME  ACTUAL_ELAPSED_TIME AIR_TIME  \\\n",
       "0     0800-0859       0.0             173.0                174.0    148.0   \n",
       "1     0800-0859       0.0             133.0                119.0     98.0   \n",
       "2     1100-1159       0.0             217.0                220.0    190.0   \n",
       "3     1200-1259       0.0             240.0                241.0    212.0   \n",
       "4     2000-2059       0.0             141.0                131.0    112.0   \n",
       "\n",
       "  DISTANCE DISTANCE_GROUP  DIV_AIRPORT_LANDINGS CRS_DEP_TIME_HR  \\\n",
       "0    966.0              4                   0.0               6   \n",
       "1    679.0              3                   0.0               6   \n",
       "2   1208.0              5                   0.0               8   \n",
       "3   1744.0              7                   0.0               6   \n",
       "4    820.0              4                   0.0              18   \n",
       "\n",
       "   CRS_ARR_TIME_HR  \n",
       "0                8  \n",
       "1                8  \n",
       "2               11  \n",
       "3               12  \n",
       "4               20  \n",
       "\n",
       "[5 rows x 56 columns]"
      ]
     },
     "execution_count": 3,
     "metadata": {},
     "output_type": "execute_result"
    }
   ],
   "source": [
    "# Viewing first five rows of the dataframe\n",
    "df.head()"
   ]
  },
  {
   "cell_type": "markdown",
   "metadata": {},
   "source": [
    "## Feature Engineering"
   ]
  },
  {
   "cell_type": "markdown",
   "metadata": {},
   "source": [
    "### Prior Flight Information"
   ]
  },
  {
   "cell_type": "markdown",
   "metadata": {},
   "source": [
    "In order to predict whether the flight will be delayed or not, we cannot use any future information about that flight, including actual arrival time, actual time in the air, taxi in or taxi out. But we can retrieve any past history of that plane for that day. We will first calculate how many trips this plane made on that day. Second, we decided to retrieve origin airport and departure hour from previous flight and whether the previous flight departure was delayed."
   ]
  },
  {
   "cell_type": "markdown",
   "metadata": {},
   "source": [
    "#### Same Day Flight Count"
   ]
  },
  {
   "cell_type": "code",
   "execution_count": 4,
   "metadata": {},
   "outputs": [
    {
     "data": {
      "text/plain": [
       "array([ 1,  2,  3,  4,  5,  6,  7,  8,  9, 10, 11, 12, 13, 14, 15])"
      ]
     },
     "execution_count": 4,
     "metadata": {},
     "output_type": "execute_result"
    }
   ],
   "source": [
    "## Sort dataframe by date and hour of flight (chronologically)\n",
    "df = df.sort_values(by = ['FL_DATE', 'CRS_DEP_TIME_HR']).reset_index(drop = True)\n",
    "## Count how many flights a specific plane has made at each point every day\n",
    "df['FLIGHT_COUNT'] = df.groupby(['TAIL_NUM','FL_DATE']).cumcount()+1\n",
    "\n",
    "df['FLIGHT_COUNT'].unique()"
   ]
  },
  {
   "cell_type": "markdown",
   "metadata": {},
   "source": [
    "**Observation:**  \n",
    "Total number of flights per day for a plane ranges from 1 to 15. Most amount of flights happen for those planes that take short trips. We noticed high volume of short trips in Alaska."
   ]
  },
  {
   "cell_type": "markdown",
   "metadata": {},
   "source": [
    "#### Same Day Prior Origin, Delay, Hour"
   ]
  },
  {
   "cell_type": "code",
   "execution_count": 5,
   "metadata": {},
   "outputs": [],
   "source": [
    "# Function calculated specific information for a privious flight\n",
    "# Function takes dataframe, name of the prior feature we are looking on previous flight,\n",
    "# name of the column that we want to store prior information to,\n",
    "# and a value that we want to fill in for those flights that have no prior history on that day\n",
    "# and returns an array of previous flight information\n",
    "def get_prior_info(df, column, name, replace_null):\n",
    "    # First we need to sort our dataframe by plane's tail number and then by flight date\n",
    "    df = df.sort_values(by = ['TAIL_NUM', 'FL_DATE']).reset_index(drop = True)\n",
    "    # Shifting dataframe to one row for all planes who have more than one flight that day \n",
    "    df[name] = df.loc[df['FLIGHT_COUNT'].shift(-1)>1, column]\n",
    "    df[name] = df[name].shift()\n",
    "    # To avoid null values, we fill first flights of the day with either 0 or \"none\"\n",
    "    df[name] = df[name].fillna(value=replace_null)\n",
    "    return df"
   ]
  },
  {
   "cell_type": "code",
   "execution_count": 6,
   "metadata": {},
   "outputs": [],
   "source": [
    "# Retrieving origin airport name for prior flights,\n",
    "# if this is the first flight of the day we input 'None' instead\n",
    "df = get_prior_info(df, 'ORIGIN', 'PRIOR_ORIGIN', replace_null='None')\n",
    "# Same for prior flight: departure hour, and if the departure was delayed or not\n",
    "df = get_prior_info(df, 'DEP_DEL15', 'PRIOR_DELAY', replace_null=0)\n",
    "df = get_prior_info(df, 'CRS_DEP_TIME_HR', 'PRIOR_DEP_HR', replace_null=0)"
   ]
  },
  {
   "cell_type": "code",
   "execution_count": 7,
   "metadata": {},
   "outputs": [
    {
     "data": {
      "text/html": [
       "<div>\n",
       "<style scoped>\n",
       "    .dataframe tbody tr th:only-of-type {\n",
       "        vertical-align: middle;\n",
       "    }\n",
       "\n",
       "    .dataframe tbody tr th {\n",
       "        vertical-align: top;\n",
       "    }\n",
       "\n",
       "    .dataframe thead th {\n",
       "        text-align: right;\n",
       "    }\n",
       "</style>\n",
       "<table border=\"1\" class=\"dataframe\">\n",
       "  <thead>\n",
       "    <tr style=\"text-align: right;\">\n",
       "      <th></th>\n",
       "      <th>TAIL_NUM</th>\n",
       "      <th>FL_DATE</th>\n",
       "      <th>FLIGHT_COUNT</th>\n",
       "      <th>ORIGIN</th>\n",
       "      <th>PRIOR_ORIGIN</th>\n",
       "      <th>DEP_DEL15</th>\n",
       "      <th>PRIOR_DELAY</th>\n",
       "      <th>CRS_DEP_TIME_HR</th>\n",
       "      <th>PRIOR_DEP_HR</th>\n",
       "    </tr>\n",
       "  </thead>\n",
       "  <tbody>\n",
       "    <tr>\n",
       "      <th>1141158</th>\n",
       "      <td>N26232</td>\n",
       "      <td>2018-01-02</td>\n",
       "      <td>1</td>\n",
       "      <td>DCA</td>\n",
       "      <td>None</td>\n",
       "      <td>0.0</td>\n",
       "      <td>0.0</td>\n",
       "      <td>5</td>\n",
       "      <td>0.0</td>\n",
       "    </tr>\n",
       "    <tr>\n",
       "      <th>1141159</th>\n",
       "      <td>N26232</td>\n",
       "      <td>2018-01-02</td>\n",
       "      <td>2</td>\n",
       "      <td>IAH</td>\n",
       "      <td>DCA</td>\n",
       "      <td>1.0</td>\n",
       "      <td>0.0</td>\n",
       "      <td>16</td>\n",
       "      <td>5.0</td>\n",
       "    </tr>\n",
       "    <tr>\n",
       "      <th>1141160</th>\n",
       "      <td>N26232</td>\n",
       "      <td>2018-01-02</td>\n",
       "      <td>3</td>\n",
       "      <td>SAT</td>\n",
       "      <td>IAH</td>\n",
       "      <td>0.0</td>\n",
       "      <td>1.0</td>\n",
       "      <td>18</td>\n",
       "      <td>16.0</td>\n",
       "    </tr>\n",
       "    <tr>\n",
       "      <th>1141161</th>\n",
       "      <td>N26232</td>\n",
       "      <td>2018-01-02</td>\n",
       "      <td>4</td>\n",
       "      <td>IAH</td>\n",
       "      <td>SAT</td>\n",
       "      <td>1.0</td>\n",
       "      <td>0.0</td>\n",
       "      <td>20</td>\n",
       "      <td>18.0</td>\n",
       "    </tr>\n",
       "  </tbody>\n",
       "</table>\n",
       "</div>"
      ],
      "text/plain": [
       "        TAIL_NUM     FL_DATE  FLIGHT_COUNT ORIGIN PRIOR_ORIGIN  DEP_DEL15  \\\n",
       "1141158   N26232  2018-01-02             1    DCA         None        0.0   \n",
       "1141159   N26232  2018-01-02             2    IAH          DCA        1.0   \n",
       "1141160   N26232  2018-01-02             3    SAT          IAH        0.0   \n",
       "1141161   N26232  2018-01-02             4    IAH          SAT        1.0   \n",
       "\n",
       "         PRIOR_DELAY  CRS_DEP_TIME_HR  PRIOR_DEP_HR  \n",
       "1141158          0.0                5           0.0  \n",
       "1141159          0.0               16           5.0  \n",
       "1141160          1.0               18          16.0  \n",
       "1141161          0.0               20          18.0  "
      ]
     },
     "execution_count": 7,
     "metadata": {},
     "output_type": "execute_result"
    }
   ],
   "source": [
    "# Checking our work on retrieving on prior information\n",
    "df[(df['MONTH'] == 1) \n",
    "            & (df['DAY_OF_MONTH'] == 2)\n",
    "            & (df['TAIL_NUM'] == 'N26232')].sort_values('DEP_TIME')[['TAIL_NUM',\n",
    "                                                                            'FL_DATE',\n",
    "                                                                              'FLIGHT_COUNT',\n",
    "                                                                              'ORIGIN',\n",
    "                                                                              'PRIOR_ORIGIN',\n",
    "                                                                              'DEP_DEL15',\n",
    "                                                                              'PRIOR_DELAY',\n",
    "                                                                              'CRS_DEP_TIME_HR',\n",
    "                                                                              'PRIOR_DEP_HR' \n",
    "                                                                            ]]"
   ]
  },
  {
   "cell_type": "markdown",
   "metadata": {},
   "source": [
    "### Cyclical Features"
   ]
  },
  {
   "cell_type": "markdown",
   "metadata": {},
   "source": [
    "Credit to [Christopher Dossman](https://medium.com/ai%C2%B3-theory-practice-business/top-6-errors-novice-machine-learning-engineers-make-e82273d394db), we learned that hours of a day, days of a week, months in a year are some examples of features that are cyclical. We need to convert these features into format that machine understands: that 0 hour follows 23 hour.  \n",
    "We are going to calculate the sin and cos component of that feature, so machine can interpret our feature as cyclical feature as (x,y) coordinates of a circle. This way, Monday and Sunday, January and December, or 23 hour and 0 hour are next to each other numerically.  \n",
    "If we keep the feature raw, machine wont be able to use the feature properly.  \n",
    "The other benefit of the transformation is that we can see the correlation of these cyclical features to our target. "
   ]
  },
  {
   "cell_type": "code",
   "execution_count": 8,
   "metadata": {},
   "outputs": [],
   "source": [
    "# Transforming our cyclical features to sine and cosine transformation\n",
    "# DEPARTURE HOURS\n",
    "df['CRS_DEP_HR_sin'] = np.sin(df.CRS_DEP_TIME_HR*(2.*np.pi/24))\n",
    "df['CRS_DEP_HR_cos'] = np.cos(df.CRS_DEP_TIME_HR*(2.*np.pi/24))\n",
    "# ARRIVAL HOURS\n",
    "df['CRS_ARR_HR_sin'] = np.sin(df.CRS_ARR_TIME_HR*(2.*np.pi/24))\n",
    "df['CRS_ARR_HR_cos'] = np.cos(df.CRS_ARR_TIME_HR*(2.*np.pi/24))\n",
    "# PRIOR DEPARTURE HOURS\n",
    "df['PRIOR_DEP_HR_sin'] = np.sin(df.PRIOR_DEP_HR*(2.*np.pi/24))\n",
    "df['PRIOR_DEP_HR_cos'] = np.cos(df.PRIOR_DEP_HR*(2.*np.pi/24))\n",
    "\n",
    "# MONTHS\n",
    "df['MONTH_sin'] = np.sin((df.MONTH-1)*(2.*np.pi/12))\n",
    "df['MONTH_cos'] = np.cos((df.MONTH-1)*(2.*np.pi/12))\n",
    "\n",
    "# DAY OF WEEK\n",
    "df['DAY_OF_WEEK_sin'] = np.sin((df.DAY_OF_WEEK-1)*(2.*np.pi/7))\n",
    "df['DAY_OF_WEEK_cos'] = np.cos((df.DAY_OF_WEEK-1)*(2.*np.pi/7))"
   ]
  },
  {
   "cell_type": "code",
   "execution_count": 9,
   "metadata": {},
   "outputs": [
    {
     "data": {
      "image/png": "[encoded data removed]",
      "text/plain": [
       "<Figure size 576x576 with 4 Axes>"
      ]
     },
     "metadata": {
      "needs_background": "light"
     },
     "output_type": "display_data"
    }
   ],
   "source": [
    "# Visualizing all cyclical features conversions for first 500,000 rows\n",
    "fig, ax = plt.subplots(2,2, figsize=(8,8))  # 2 row, 2 columns\n",
    "# Scheduled Departure Hour\n",
    "df[:500_000].plot.scatter('CRS_DEP_HR_sin','CRS_DEP_HR_cos',\n",
    "                          ax=ax[0,0]).set_aspect('equal');\n",
    "# Month\n",
    "df[:500_000].plot.scatter('MONTH_sin','MONTH_cos', \n",
    "                          ax=ax[0,1]).set_aspect('equal');\n",
    "# Prior Departure Hour\n",
    "df[:500_000].plot.scatter('PRIOR_DEP_HR_sin','PRIOR_DEP_HR_cos', \n",
    "                          ax=ax[1,0]).set_aspect('equal');\n",
    "# Day Of a Week\n",
    "df[:500_000].plot.scatter('DAY_OF_WEEK_sin','DAY_OF_WEEK_cos', \n",
    "                          ax=ax[1,1]).set_aspect('equal');\n",
    "\n",
    "plt.tight_layout()\n",
    "ax[0,0].title.set_text('Departure Hours')\n",
    "ax[0,1].title.set_text('Departure Months')\n",
    "ax[1,0].title.set_text('Prior Departure Hours')\n",
    "ax[1,1].title.set_text('Departure Days of Week')"
   ]
  },
  {
   "cell_type": "markdown",
   "metadata": {},
   "source": [
    "#### Features Summary\n",
    "We deal with three types of features in this project: cyclical, ordinal and additional features. Since we handle them differently we have to separate them into three different category. "
   ]
  },
  {
   "cell_type": "code",
   "execution_count": 10,
   "metadata": {},
   "outputs": [],
   "source": [
    "# Defining all our features prior to modeling \n",
    "cyclical_features = ['CRS_DEP_HR_sin', 'CRS_DEP_HR_cos', # Scheduled Departure Hours\n",
    "                     'CRS_ARR_HR_sin', 'CRS_ARR_HR_cos', # Scheduled Arrival Hours\n",
    "                     'MONTH_sin', 'MONTH_cos', # Month of the flight\n",
    "                    'PRIOR_DEP_HR_sin', 'PRIOR_DEP_HR_cos', # Prior Departure Hour\n",
    "                    'DAY_OF_WEEK_sin', 'DAY_OF_WEEK_cos'] #Day of Week\n",
    "\n",
    "# Ordinal features would need to be dummified \n",
    "ordinal_features = ['OP_UNIQUE_CARRIER', 'ORIGIN', 'DEST',\n",
    "                    'PRIOR_ORIGIN']\n",
    "\n",
    "additional_features = ['FLIGHT_COUNT', 'PRIOR_DELAY',\n",
    "                       'CRS_ELAPSED_TIME']\n",
    "\n",
    "# Gathering all important features together modeling\n",
    "df = df[cyclical_features +  ordinal_features + \n",
    "                 additional_features + ['DEP_DEL15']]\n"
   ]
  },
  {
   "cell_type": "code",
   "execution_count": 11,
   "metadata": {
    "scrolled": false
   },
   "outputs": [
    {
     "data": {
      "image/png": "[encoded data removed]",
      "text/plain": [
       "<Figure size 720x720 with 1 Axes>"
      ]
     },
     "metadata": {
      "needs_background": "light"
     },
     "output_type": "display_data"
    }
   ],
   "source": [
    "# Checking multicollinearity via heatmap\n",
    "# (two or more explanatory variables in a multiple regression model \n",
    "# are highly linearly related) \n",
    "plt.figure(figsize=(10, 10))\n",
    "sns.heatmap(df.corr(), \n",
    "            cmap='RdBu', #color of the map (red/blue)\n",
    "            vmin=-1, #Values to anchor the colormap are from -1 to 1\n",
    "            vmax=1,\n",
    "            annot=True, #writing the data value in each cell\n",
    "           cbar=False); #no colorbar drawing"
   ]
  },
  {
   "cell_type": "markdown",
   "metadata": {},
   "source": [
    "**Observation:**   \n",
    "There are no multicollinearity between features. Strong correlation are between sine and cosine, which is expected by nature."
   ]
  },
  {
   "cell_type": "markdown",
   "metadata": {},
   "source": [
    "#### Interactions\n",
    "Before creating interactions we want to see those features with highest correlation to our target variable(delayed or not)."
   ]
  },
  {
   "cell_type": "code",
   "execution_count": 12,
   "metadata": {},
   "outputs": [
    {
     "data": {
      "image/png": "[encoded data removed]",
      "text/plain": [
       "<Figure size 144x720 with 1 Axes>"
      ]
     },
     "metadata": {
      "needs_background": "light"
     },
     "output_type": "display_data"
    }
   ],
   "source": [
    "# Plotting the heatmap for correlations of all features to target\n",
    "plt.figure(figsize=(2, 10))\n",
    "sns.heatmap(df.corr()[['DEP_DEL15']].sort_values('DEP_DEL15', ascending=False), \n",
    "            cmap='RdBu', #color of the map (red/blue)\n",
    "            vmin=-1, #Values to anchor the colormap are from -1 to 1\n",
    "            vmax=1,\n",
    "            annot=True, #writing the data value in each cell\n",
    "           cbar=False); #no colorbar drawing\n"
   ]
  },
  {
   "cell_type": "code",
   "execution_count": 13,
   "metadata": {
    "scrolled": true
   },
   "outputs": [],
   "source": [
    "# Engineering interaction features from those that have highest correlation to target\n",
    "df['PRIOR_DELAY*FLIGHT_COUNT']= df['PRIOR_DELAY']*df['FLIGHT_COUNT']\n",
    "df['PRIOR_DELAY*CRS_ARR_HR_cos']= df['PRIOR_DELAY']*df['CRS_ARR_HR_cos']\n",
    "df['PRIOR_DELAY*CRS_DEP_HR_sin']= df['PRIOR_DELAY']*df['CRS_DEP_HR_sin']\n",
    "df['FLIGHT_COUNT*CRS_DEP_HR_sin']= df['FLIGHT_COUNT']*df['CRS_DEP_HR_sin']"
   ]
  },
  {
   "cell_type": "code",
   "execution_count": 14,
   "metadata": {},
   "outputs": [
    {
     "data": {
      "image/png": "[encoded data removed]",
      "text/plain": [
       "<Figure size 144x288 with 1 Axes>"
      ]
     },
     "metadata": {
      "needs_background": "light"
     },
     "output_type": "display_data"
    }
   ],
   "source": [
    "# Plotting heatmap of those features with maximum correlation to target\n",
    "correlation = df.corr()[['DEP_DEL15']].sort_values('DEP_DEL15', ascending=False)\n",
    "plt.figure(figsize=(2, 4))\n",
    "sns.heatmap(correlation[np.abs(correlation['DEP_DEL15'])> 0.3], \n",
    "            cmap='RdBu', #color of the map (red/blue)\n",
    "            vmin=-1, #Values to anchor the colormap are from -1 to 1\n",
    "            vmax=1,\n",
    "            annot=True, #writing the data value in each cell\n",
    "           cbar=False); #no colorbar drawing"
   ]
  },
  {
   "cell_type": "code",
   "execution_count": 15,
   "metadata": {},
   "outputs": [],
   "source": [
    "# Choosing the top interactions that might help our models\n",
    "top_interactions = ['PRIOR_DELAY*FLIGHT_COUNT', \n",
    "                    'PRIOR_DELAY*CRS_DEP_HR_sin']"
   ]
  },
  {
   "cell_type": "code",
   "execution_count": 16,
   "metadata": {},
   "outputs": [
    {
     "data": {
      "text/html": [
       "<div>\n",
       "<style scoped>\n",
       "    .dataframe tbody tr th:only-of-type {\n",
       "        vertical-align: middle;\n",
       "    }\n",
       "\n",
       "    .dataframe tbody tr th {\n",
       "        vertical-align: top;\n",
       "    }\n",
       "\n",
       "    .dataframe thead th {\n",
       "        text-align: right;\n",
       "    }\n",
       "</style>\n",
       "<table border=\"1\" class=\"dataframe\">\n",
       "  <thead>\n",
       "    <tr style=\"text-align: right;\">\n",
       "      <th></th>\n",
       "      <th>CRS_DEP_HR_sin</th>\n",
       "      <th>CRS_DEP_HR_cos</th>\n",
       "      <th>CRS_ARR_HR_sin</th>\n",
       "      <th>CRS_ARR_HR_cos</th>\n",
       "      <th>MONTH_sin</th>\n",
       "      <th>MONTH_cos</th>\n",
       "      <th>PRIOR_DEP_HR_sin</th>\n",
       "      <th>PRIOR_DEP_HR_cos</th>\n",
       "      <th>DAY_OF_WEEK_sin</th>\n",
       "      <th>DAY_OF_WEEK_cos</th>\n",
       "      <th>...</th>\n",
       "      <th>DEST</th>\n",
       "      <th>PRIOR_ORIGIN</th>\n",
       "      <th>FLIGHT_COUNT</th>\n",
       "      <th>PRIOR_DELAY</th>\n",
       "      <th>CRS_ELAPSED_TIME</th>\n",
       "      <th>DEP_DEL15</th>\n",
       "      <th>PRIOR_DELAY*FLIGHT_COUNT</th>\n",
       "      <th>PRIOR_DELAY*CRS_ARR_HR_cos</th>\n",
       "      <th>PRIOR_DELAY*CRS_DEP_HR_sin</th>\n",
       "      <th>FLIGHT_COUNT*CRS_DEP_HR_sin</th>\n",
       "    </tr>\n",
       "  </thead>\n",
       "  <tbody>\n",
       "    <tr>\n",
       "      <th>0</th>\n",
       "      <td>1.000000e+00</td>\n",
       "      <td>6.123234e-17</td>\n",
       "      <td>0.965926</td>\n",
       "      <td>-0.258819</td>\n",
       "      <td>0.0</td>\n",
       "      <td>1.0</td>\n",
       "      <td>0.000000e+00</td>\n",
       "      <td>1.000000e+00</td>\n",
       "      <td>0.0</td>\n",
       "      <td>1.0</td>\n",
       "      <td>...</td>\n",
       "      <td>MEM</td>\n",
       "      <td>None</td>\n",
       "      <td>1</td>\n",
       "      <td>0.0</td>\n",
       "      <td>153.0</td>\n",
       "      <td>0.0</td>\n",
       "      <td>0.0</td>\n",
       "      <td>-0.000000</td>\n",
       "      <td>0.000000</td>\n",
       "      <td>1.000000e+00</td>\n",
       "    </tr>\n",
       "    <tr>\n",
       "      <th>1</th>\n",
       "      <td>8.660254e-01</td>\n",
       "      <td>-5.000000e-01</td>\n",
       "      <td>0.258819</td>\n",
       "      <td>-0.965926</td>\n",
       "      <td>0.0</td>\n",
       "      <td>1.0</td>\n",
       "      <td>1.000000e+00</td>\n",
       "      <td>6.123234e-17</td>\n",
       "      <td>0.0</td>\n",
       "      <td>1.0</td>\n",
       "      <td>...</td>\n",
       "      <td>FLL</td>\n",
       "      <td>FLL</td>\n",
       "      <td>2</td>\n",
       "      <td>0.0</td>\n",
       "      <td>136.0</td>\n",
       "      <td>0.0</td>\n",
       "      <td>0.0</td>\n",
       "      <td>-0.000000</td>\n",
       "      <td>0.000000</td>\n",
       "      <td>1.732051e+00</td>\n",
       "    </tr>\n",
       "    <tr>\n",
       "      <th>2</th>\n",
       "      <td>1.224647e-16</td>\n",
       "      <td>-1.000000e+00</td>\n",
       "      <td>-0.500000</td>\n",
       "      <td>-0.866025</td>\n",
       "      <td>0.0</td>\n",
       "      <td>1.0</td>\n",
       "      <td>8.660254e-01</td>\n",
       "      <td>-5.000000e-01</td>\n",
       "      <td>0.0</td>\n",
       "      <td>1.0</td>\n",
       "      <td>...</td>\n",
       "      <td>GSP</td>\n",
       "      <td>MEM</td>\n",
       "      <td>3</td>\n",
       "      <td>0.0</td>\n",
       "      <td>112.0</td>\n",
       "      <td>1.0</td>\n",
       "      <td>0.0</td>\n",
       "      <td>-0.000000</td>\n",
       "      <td>0.000000</td>\n",
       "      <td>3.673940e-16</td>\n",
       "    </tr>\n",
       "    <tr>\n",
       "      <th>3</th>\n",
       "      <td>-7.071068e-01</td>\n",
       "      <td>-7.071068e-01</td>\n",
       "      <td>-0.866025</td>\n",
       "      <td>-0.500000</td>\n",
       "      <td>0.0</td>\n",
       "      <td>1.0</td>\n",
       "      <td>1.224647e-16</td>\n",
       "      <td>-1.000000e+00</td>\n",
       "      <td>0.0</td>\n",
       "      <td>1.0</td>\n",
       "      <td>...</td>\n",
       "      <td>FLL</td>\n",
       "      <td>FLL</td>\n",
       "      <td>4</td>\n",
       "      <td>1.0</td>\n",
       "      <td>109.0</td>\n",
       "      <td>1.0</td>\n",
       "      <td>4.0</td>\n",
       "      <td>-0.500000</td>\n",
       "      <td>-0.707107</td>\n",
       "      <td>-2.828427e+00</td>\n",
       "    </tr>\n",
       "    <tr>\n",
       "      <th>4</th>\n",
       "      <td>-9.659258e-01</td>\n",
       "      <td>-2.588190e-01</td>\n",
       "      <td>-0.965926</td>\n",
       "      <td>0.258819</td>\n",
       "      <td>0.0</td>\n",
       "      <td>1.0</td>\n",
       "      <td>-7.071068e-01</td>\n",
       "      <td>-7.071068e-01</td>\n",
       "      <td>0.0</td>\n",
       "      <td>1.0</td>\n",
       "      <td>...</td>\n",
       "      <td>ORF</td>\n",
       "      <td>GSP</td>\n",
       "      <td>5</td>\n",
       "      <td>1.0</td>\n",
       "      <td>125.0</td>\n",
       "      <td>1.0</td>\n",
       "      <td>5.0</td>\n",
       "      <td>0.258819</td>\n",
       "      <td>-0.965926</td>\n",
       "      <td>-4.829629e+00</td>\n",
       "    </tr>\n",
       "  </tbody>\n",
       "</table>\n",
       "<p>5 rows × 22 columns</p>\n",
       "</div>"
      ],
      "text/plain": [
       "   CRS_DEP_HR_sin  CRS_DEP_HR_cos  CRS_ARR_HR_sin  CRS_ARR_HR_cos  MONTH_sin  \\\n",
       "0    1.000000e+00    6.123234e-17        0.965926       -0.258819        0.0   \n",
       "1    8.660254e-01   -5.000000e-01        0.258819       -0.965926        0.0   \n",
       "2    1.224647e-16   -1.000000e+00       -0.500000       -0.866025        0.0   \n",
       "3   -7.071068e-01   -7.071068e-01       -0.866025       -0.500000        0.0   \n",
       "4   -9.659258e-01   -2.588190e-01       -0.965926        0.258819        0.0   \n",
       "\n",
       "   MONTH_cos  PRIOR_DEP_HR_sin  PRIOR_DEP_HR_cos  DAY_OF_WEEK_sin  \\\n",
       "0        1.0      0.000000e+00      1.000000e+00              0.0   \n",
       "1        1.0      1.000000e+00      6.123234e-17              0.0   \n",
       "2        1.0      8.660254e-01     -5.000000e-01              0.0   \n",
       "3        1.0      1.224647e-16     -1.000000e+00              0.0   \n",
       "4        1.0     -7.071068e-01     -7.071068e-01              0.0   \n",
       "\n",
       "   DAY_OF_WEEK_cos  ... DEST PRIOR_ORIGIN FLIGHT_COUNT PRIOR_DELAY  \\\n",
       "0              1.0  ...  MEM         None            1         0.0   \n",
       "1              1.0  ...  FLL          FLL            2         0.0   \n",
       "2              1.0  ...  GSP          MEM            3         0.0   \n",
       "3              1.0  ...  FLL          FLL            4         1.0   \n",
       "4              1.0  ...  ORF          GSP            5         1.0   \n",
       "\n",
       "   CRS_ELAPSED_TIME  DEP_DEL15  PRIOR_DELAY*FLIGHT_COUNT  \\\n",
       "0             153.0        0.0                       0.0   \n",
       "1             136.0        0.0                       0.0   \n",
       "2             112.0        1.0                       0.0   \n",
       "3             109.0        1.0                       4.0   \n",
       "4             125.0        1.0                       5.0   \n",
       "\n",
       "   PRIOR_DELAY*CRS_ARR_HR_cos  PRIOR_DELAY*CRS_DEP_HR_sin  \\\n",
       "0                   -0.000000                    0.000000   \n",
       "1                   -0.000000                    0.000000   \n",
       "2                   -0.000000                    0.000000   \n",
       "3                   -0.500000                   -0.707107   \n",
       "4                    0.258819                   -0.965926   \n",
       "\n",
       "   FLIGHT_COUNT*CRS_DEP_HR_sin  \n",
       "0                 1.000000e+00  \n",
       "1                 1.732051e+00  \n",
       "2                 3.673940e-16  \n",
       "3                -2.828427e+00  \n",
       "4                -4.829629e+00  \n",
       "\n",
       "[5 rows x 22 columns]"
      ]
     },
     "execution_count": 16,
     "metadata": {},
     "output_type": "execute_result"
    }
   ],
   "source": [
    "df.head()"
   ]
  },
  {
   "cell_type": "code",
   "execution_count": 17,
   "metadata": {},
   "outputs": [
    {
     "name": "stdout",
     "output_type": "stream",
     "text": [
      "Number of Carriers: 18\n",
      "Number of Origin Airports: 358\n",
      "Number of Destination Airports: 358\n",
      "Number of Prior Airports: 358\n"
     ]
    }
   ],
   "source": [
    "print(f\"Number of Carriers: {len(df['OP_UNIQUE_CARRIER'].unique())}\")\n",
    "print(f\"Number of Origin Airports: {len(df['ORIGIN'].unique())}\")\n",
    "print(f\"Number of Destination Airports: {len(df['DEST'].unique())}\")\n",
    "print(f\"Number of Prior Airports: {len(df['PRIOR_ORIGIN'].unique())}\")"
   ]
  },
  {
   "cell_type": "markdown",
   "metadata": {},
   "source": [
    "#### Label Encoder"
   ]
  },
  {
   "cell_type": "code",
   "execution_count": 18,
   "metadata": {},
   "outputs": [],
   "source": [
    "# source:\n",
    "# https://medium.com/@contactsunny/label-encoder-vs-one-hot-encoder-in-machine-learning-3fc273365621\n",
    "label = LabelEncoder()\n",
    "\n",
    "df[\"OP_UNIQUE_CARRIER\"] = label.fit_transform(df[\"OP_UNIQUE_CARRIER\"])\n",
    "df[\"ORIGIN\"] = label.fit_transform(df[\"ORIGIN\"])\n",
    "df[\"DEST\"] = label.fit_transform(df[\"DEST\"])\n",
    "df[\"PRIOR_ORIGIN\"] = label.fit_transform(df[\"PRIOR_ORIGIN\"])\n"
   ]
  },
  {
   "cell_type": "code",
   "execution_count": 19,
   "metadata": {},
   "outputs": [
    {
     "name": "stdout",
     "output_type": "stream",
     "text": [
      "Size of dataframe including dummie variables: (7096846, 22)\n",
      "Count of all features: 19\n"
     ]
    }
   ],
   "source": [
    "# Concatenating all features together for modeling\n",
    "features = cyclical_features + ordinal_features +\\\n",
    "                additional_features  + top_interactions\n",
    "\n",
    "print(f'Size of dataframe including dummie variables: {df.shape}')\n",
    "print(f'Count of all features: {len(features)}')"
   ]
  },
  {
   "cell_type": "code",
   "execution_count": 20,
   "metadata": {},
   "outputs": [
    {
     "data": {
      "text/plain": [
       "(7096846, 22)"
      ]
     },
     "execution_count": 20,
     "metadata": {},
     "output_type": "execute_result"
    }
   ],
   "source": [
    "df.shape"
   ]
  },
  {
   "cell_type": "markdown",
   "metadata": {},
   "source": [
    "For practical reasons, we save our final dataframe with all features, including engineered features, prior to modeling.  This way we may simply use preprocessed dataset that is ready for modeling at any time. "
   ]
  },
  {
   "cell_type": "code",
   "execution_count": 21,
   "metadata": {},
   "outputs": [],
   "source": [
    "df.to_csv('../data/2018_reporting_to_model.csv', index = False)"
   ]
  },
  {
   "cell_type": "code",
   "execution_count": 13,
   "metadata": {},
   "outputs": [
    {
     "data": {
      "text/plain": [
       "(7096846, 22)"
      ]
     },
     "execution_count": 13,
     "metadata": {},
     "output_type": "execute_result"
    }
   ],
   "source": [
    "# Opening preprocessed data set for future models\n",
    "# Please run all library imports first prior to reading the file,\n",
    "# if dont need to rerun the top half of the notebook\n",
    "df = pd.read_csv('../data/2018_reporting_to_model.csv')\n",
    "df.shape"
   ]
  },
  {
   "cell_type": "code",
   "execution_count": 14,
   "metadata": {},
   "outputs": [],
   "source": [
    "# We are running this cell only if reading the 2018_reporting_to_model.csv file\n",
    "# Defining all our features prior to modeling \n",
    "cyclical_features = ['CRS_DEP_HR_sin', 'CRS_DEP_HR_cos', # Scheduled Departure Hours\n",
    "                     'CRS_ARR_HR_sin', 'CRS_ARR_HR_cos', # Scheduled Arrival Hours\n",
    "                     'MONTH_sin', 'MONTH_cos', # Month of the flight\n",
    "                    'PRIOR_DEP_HR_sin', 'PRIOR_DEP_HR_cos', # Prior Departure Hour\n",
    "                    'DAY_OF_WEEK_sin', 'DAY_OF_WEEK_cos'] #Day of Week\n",
    "\n",
    "# Ordinal features would need to be dummified \n",
    "ordinal_features = ['OP_UNIQUE_CARRIER', 'ORIGIN', 'DEST',\n",
    "                    'PRIOR_ORIGIN']\n",
    "\n",
    "additional_features = ['FLIGHT_COUNT', 'PRIOR_DELAY',\n",
    "                       'CRS_ELAPSED_TIME']\n",
    "# Choosing the top interactions that might help our models\n",
    "top_interactions = ['PRIOR_DELAY*FLIGHT_COUNT', \n",
    "                    'PRIOR_DELAY*CRS_DEP_HR_sin']\n",
    "\n",
    "features = cyclical_features + ordinal_features +\\\n",
    "                additional_features  + top_interactions"
   ]
  },
  {
   "cell_type": "markdown",
   "metadata": {},
   "source": [
    "### Modeling"
   ]
  },
  {
   "cell_type": "markdown",
   "metadata": {},
   "source": [
    "#### Baseline Model"
   ]
  },
  {
   "cell_type": "code",
   "execution_count": 15,
   "metadata": {},
   "outputs": [
    {
     "data": {
      "text/plain": [
       "0.0    0.816227\n",
       "1.0    0.183773\n",
       "Name: DEP_DEL15, dtype: float64"
      ]
     },
     "execution_count": 15,
     "metadata": {},
     "output_type": "execute_result"
    }
   ],
   "source": [
    "# Defining X and y before train-test-split\n",
    "X = df[features]\n",
    "y = df['DEP_DEL15']\n",
    "\n",
    "# Check how dataframe is balanced\n",
    "y.value_counts(normalize=True)"
   ]
  },
  {
   "cell_type": "markdown",
   "metadata": {},
   "source": [
    "By establishing our baseline, we want to compare our future complex models to it. \n",
    "Our classes are unbalanced (82/18), so the **baseline model for average precision score is 18% for train and test**.\n",
    "\n",
    "A baseline is the result of a very basic model, so we are going to create a more complex solutions in order to optimize precision and recall. In our situation, classification problem, we would like to use the following models:  \n",
    "1. Logistic Regression\n",
    "2. Random Forest\n",
    "3. AdaBoost\n",
    "4. Feed Forward Neural Network\n",
    "\n",
    "Then, we will define the best model based on average precision scores, that summarizes a precision-recall curve as the weighted mean of precisions achieved at each threshold."
   ]
  },
  {
   "cell_type": "code",
   "execution_count": 16,
   "metadata": {},
   "outputs": [],
   "source": [
    "# Splitting the data, where test data is 25% of the whole dataset\n",
    "X_train, X_test, y_train, y_test = train_test_split(X,\n",
    "                                                    y,\n",
    "                                                    stratify=y,\n",
    "                                                    test_size = 0.25,\n",
    "                                                    random_state=42)"
   ]
  },
  {
   "cell_type": "code",
   "execution_count": 17,
   "metadata": {},
   "outputs": [],
   "source": [
    "# Standardise data before modeling\n",
    "sc = StandardScaler()\n",
    "X_train = sc.fit_transform(X_train)\n",
    "X_test = sc.transform(X_test)"
   ]
  },
  {
   "cell_type": "code",
   "execution_count": 18,
   "metadata": {},
   "outputs": [],
   "source": [
    "def run_model(X_train, y_train, pipe, pipe_params):\n",
    "    # Start our timer.\n",
    "    t0 = datetime.datetime.now()\n",
    "\n",
    "    # Instantiate GridSearchCV\n",
    "    gs = GridSearchCV(pipe, pipe_params, cv = 5,\n",
    "                      n_jobs = -1, # parallel computing facilities\n",
    "                      scoring = 'average_precision', \n",
    "                      # https://jaquesgrobler.github.io/online-sklearn-build/modules/model_evaluation.html\n",
    "                     verbose = 1) \n",
    "    \n",
    "    #fiting our X and y train on GridSearchCV with above mentioned paramenters\n",
    "    #setting time to see how long it takes the fit to run\n",
    "    gs.fit(X_train, y_train);\n",
    "    \n",
    "    # Stop our timer and print the result.\n",
    "    print(f'Running time: {datetime.datetime.now() - t0}')\n",
    "    \n",
    "    print(f'Best Pipeline Score: {gs.best_score_}')\n",
    "    print(f'Best Params:\\n{gs.best_params_}')\n",
    "    # Extracting the best model from the pipeline\n",
    "    gs_best = gs.best_estimator_\n",
    "    # Calculating average precision score for X_train\n",
    "    probs_train = gs_best.predict_proba(X_train)\n",
    "    probs_train = probs_train[:, 1]\n",
    "    apc_train = average_precision_score(y_train, probs_train)\n",
    "    # Calculating average precision score for X_test\n",
    "    probs_test = gs_best.predict_proba(X_test)\n",
    "    probs_test = probs_test[:, 1]\n",
    "    apc_test = average_precision_score(y_test, probs_test)\n",
    "    \n",
    "    print(f'Train Average Precision Score:{apc_train}')\n",
    "    print(f'Test Average Precision Score:{apc_test}')\n",
    "    \n",
    "    # Calculate predictions and show confusion matrix\n",
    "    preds = gs_best.predict(X_test)\n",
    "    con_matrix = confusion_matrix(y_test, preds)\n",
    "    print(f'Confusion Matrix:\\n{con_matrix}')\n",
    "    \n",
    "    return gs_best, preds"
   ]
  },
  {
   "cell_type": "code",
   "execution_count": 30,
   "metadata": {},
   "outputs": [],
   "source": [
    "# Creating the function that plots our confusion matrix\n",
    "def plot_matrix(con_matrix, model_name):\n",
    "    # Plotting our confusion matrix for better view\n",
    "    # credit to the following source on putting group_names and counts together inside heatmap:\n",
    "    # https://medium.com/@dtuk81/confusion-matrix-visualization-fc31e3f30fea\n",
    "    group_names = ['True Neg','False Pos','False Neg','True Pos']\n",
    "    group_counts = [\"{0:0.0f}\".format(value) for value in\n",
    "                    con_matrix.flatten()]\n",
    "    # label design - names first, counts below\n",
    "    labels = [f\"{v1}\\n{v2}\" for v1, v2 in\n",
    "              zip(group_names,group_counts)]\n",
    "\n",
    "    # reshaping the labels to fit each cell\n",
    "    labels = np.asarray(labels).reshape(2,2)\n",
    "\n",
    "    sns.heatmap((con_matrix), \n",
    "                annot=labels,\n",
    "                annot_kws={\"size\": 25}, #writing the data value in each cell, big enough to be visible in the presentation\n",
    "                cmap='Blues', #color of the map (blue)\n",
    "                fmt=\"\", #format of annotations (no format)\n",
    "                xticklabels=True, #removing xtickslabels\n",
    "                yticklabels=True, #removing ytickslabels\n",
    "                cbar=False); #no colorbar drawing\n",
    "\n",
    "    #Setting the title to size 27\n",
    "    plt.title (f'Confusion Matrix for\\n {model_name}', \n",
    "               size=27);\n",
    "    plt.ylabel('True Label', size=15);\n",
    "    plt.xlabel('Predicted Label', size=15);\n",
    "    plt.yticks(size = 15);\n",
    "    plt.xticks(size = 15);"
   ]
  },
  {
   "cell_type": "markdown",
   "metadata": {},
   "source": [
    "#### Logistic Regression\n",
    "Logistic Regression is a classification algorithm that we will use to predict the probability of a discrete variable: delayed(1) or on-time(0).  \n",
    "For regularization techniques we will try both Lasso (L1) and Ridge (L2). And for inverse of regularization strength (C) we will use 0.1."
   ]
  },
  {
   "cell_type": "code",
   "execution_count": 22,
   "metadata": {
    "scrolled": true
   },
   "outputs": [
    {
     "name": "stdout",
     "output_type": "stream",
     "text": [
      "Fitting 5 folds for each of 2 candidates, totalling 10 fits\n"
     ]
    },
    {
     "name": "stderr",
     "output_type": "stream",
     "text": [
      "[Parallel(n_jobs=-1)]: Using backend LokyBackend with 4 concurrent workers.\n",
      "[Parallel(n_jobs=-1)]: Done  10 out of  10 | elapsed: 66.4min finished\n"
     ]
    },
    {
     "name": "stdout",
     "output_type": "stream",
     "text": [
      "Running time: 1:07:06.137626\n",
      "Best Pipeline Score: 0.49319168426409743\n",
      "Best Params:\n",
      "{'lr__C': 0.1, 'lr__penalty': 'l2', 'lr__solver': 'liblinear'}\n",
      "Train Average Precision Score:0.4932112584675268\n",
      "Test Average Precision Score:0.49216172852116213\n",
      "Confusion Matrix:\n",
      "[[1372427   75732]\n",
      " [ 183633  142420]]\n"
     ]
    }
   ],
   "source": [
    "# LOGISTIC REGRESSION\n",
    "# Defining our pipeline\n",
    "pipe = Pipeline([('lr', LogisticRegression())])\n",
    "# Hyper Parameters:\n",
    "pipe_params = {\n",
    "    'lr__solver': ['liblinear'],\n",
    "    'lr__penalty': ['l1', 'l2'],\n",
    "    'lr__C': [ 0.1]\n",
    "}\n",
    "\n",
    "lr_best_estimator, lr_preds = run_model(X_train, y_train, \n",
    "                                           pipe, pipe_params)"
   ]
  },
  {
   "cell_type": "markdown",
   "metadata": {},
   "source": [
    "#### Random Forest\n",
    "Random Forest is classification algorithm that consists of n-number of trees. It uses bagging and feature randomness to create a set of trees with low correlation to each other. Each tree has an independent 'opinion' of predictions and the final prediction is decided by majority.  \n",
    "Hyper Parameters:\n",
    "- We will set the number of trees in the forest to 10,  \n",
    "- number of features to consider when looking for the best split to set of 9,11 and 13, \n",
    "- maximum depth of the tree to set of 11,13 or 15,\n",
    "- minimum number of samples required to split an internal node and minimum number of samples required to be at a leaf node to 2.\n"
   ]
  },
  {
   "cell_type": "code",
   "execution_count": 19,
   "metadata": {
    "scrolled": false
   },
   "outputs": [
    {
     "name": "stdout",
     "output_type": "stream",
     "text": [
      "Fitting 5 folds for each of 16 candidates, totalling 80 fits\n"
     ]
    },
    {
     "name": "stderr",
     "output_type": "stream",
     "text": [
      "[Parallel(n_jobs=-1)]: Using backend LokyBackend with 4 concurrent workers.\n",
      "[Parallel(n_jobs=-1)]: Done  42 tasks      | elapsed: 121.8min\n",
      "[Parallel(n_jobs=-1)]: Done  80 out of  80 | elapsed: 306.0min finished\n"
     ]
    },
    {
     "name": "stdout",
     "output_type": "stream",
     "text": [
      "Running time: 5:18:36.283416\n",
      "Best Pipeline Score: 0.5593733396294827\n",
      "Best Params:\n",
      "{'rf__max_depth': 18, 'rf__max_features': 9, 'rf__min_samples_leaf': 2, 'rf__min_samples_split': 2, 'rf__n_estimators': 10}\n",
      "Train Average Precision Score:0.6457243522119097\n",
      "Test Average Precision Score:0.5607867081473034\n",
      "Confusion Matrix:\n",
      "[[1389680   58479]\n",
      " [ 192910  133143]]\n"
     ]
    }
   ],
   "source": [
    "# RANDOM FOREST\n",
    "pipe = Pipeline([('rf', RandomForestClassifier())])\n",
    "\n",
    "# Hyper Parameters:\n",
    "pipe_params = {\n",
    "    'rf__n_estimators': [10],\n",
    "    'rf__max_features': [7, 9, 11, 15], # how many features to take (sqrt of total features)\n",
    "    'rf__max_depth': [7, 9, 13, 18],\n",
    "    'rf__min_samples_split':[2], \n",
    "    'rf__min_samples_leaf':[2], \n",
    "    }\n",
    "\n",
    "rf_best_estimator, rf_preds = run_model(X_train, y_train, \n",
    "                                        pipe, pipe_params)"
   ]
  },
  {
   "cell_type": "markdown",
   "metadata": {},
   "source": [
    "#### AdaBoost\n",
    "Another ensemble method,which takes a weak base learner and tries to make it a strong learner by retraining it on the misclassified samples.  \n",
    "Hyper Parameters:  \n",
    "We will set the maximum number of estimators at which boosting is terminated to 30 and learning rate to 0.1 and 0.2."
   ]
  },
  {
   "cell_type": "code",
   "execution_count": 20,
   "metadata": {},
   "outputs": [
    {
     "name": "stdout",
     "output_type": "stream",
     "text": [
      "Fitting 5 folds for each of 6 candidates, totalling 30 fits\n"
     ]
    },
    {
     "name": "stderr",
     "output_type": "stream",
     "text": [
      "[Parallel(n_jobs=-1)]: Using backend LokyBackend with 4 concurrent workers.\n",
      "[Parallel(n_jobs=-1)]: Done  30 out of  30 | elapsed: 100.8min finished\n"
     ]
    },
    {
     "name": "stdout",
     "output_type": "stream",
     "text": [
      "Running time: 1:52:32.870418\n",
      "Best Pipeline Score: 0.49805194195044544\n",
      "Best Params:\n",
      "{'ab__learning_rate': 0.3, 'ab__n_estimators': 40}\n",
      "Train Average Precision Score:0.4972032478906096\n",
      "Test Average Precision Score:0.49517173446246665\n",
      "Confusion Matrix:\n",
      "[[1373397   74762]\n",
      " [ 184970  141083]]\n"
     ]
    }
   ],
   "source": [
    "# ADABOOST MODEL\n",
    "pipe = Pipeline([('ab', AdaBoostClassifier())])\n",
    "# Hyper Parameters:\n",
    "pipe_params = {\n",
    "    'ab__n_estimators': [20, 30, 40],\n",
    "    'ab__learning_rate': [0.2, 0.3]\n",
    "    }\n",
    "\n",
    "ab_best_estimator, ab_preds = run_model(X_train, y_train, \n",
    "                                        pipe, pipe_params)"
   ]
  },
  {
   "cell_type": "markdown",
   "metadata": {},
   "source": [
    "###### Feedforward Neural Network\n",
    "We will implement Feedforward Neural Network with only two hidden layers. We will be using 'relu' activation function for input and hidden layers and 'sigmoid' for the output layer, since it is a binary classification problem (0,1). \n",
    "In ft.keras metric that we want to optimize called AUC with specific indication 'PR' (=precision_recall)."
   ]
  },
  {
   "cell_type": "code",
   "execution_count": 27,
   "metadata": {},
   "outputs": [
    {
     "name": "stdout",
     "output_type": "stream",
     "text": [
      "Train on 5322634 samples, validate on 1774212 samples\n",
      "Epoch 1/40\n",
      "5322634/5322634 [==============================] - 35s 7us/step - loss: 0.3864 - auc_3: 0.4928 - val_loss: 0.3832 - val_auc_3: 0.5141\n",
      "Epoch 2/40\n",
      "5322634/5322634 [==============================] - 30s 6us/step - loss: 0.3819 - auc_3: 0.5175 - val_loss: 0.3815 - val_auc_3: 0.5201\n",
      "Epoch 3/40\n",
      "5322634/5322634 [==============================] - 32s 6us/step - loss: 0.3805 - auc_3: 0.5221 - val_loss: 0.3804 - val_auc_3: 0.5238\n",
      "Epoch 4/40\n",
      "5322634/5322634 [==============================] - 31s 6us/step - loss: 0.3795 - auc_3: 0.5254 - val_loss: 0.3797 - val_auc_3: 0.5267\n",
      "Epoch 5/40\n",
      "5322634/5322634 [==============================] - 28s 5us/step - loss: 0.3787 - auc_3: 0.5280 - val_loss: 0.3791 - val_auc_3: 0.5290\n",
      "Epoch 6/40\n",
      "5322634/5322634 [==============================] - 31s 6us/step - loss: 0.3781 - auc_3: 0.5300 - val_loss: 0.3787 - val_auc_3: 0.5309\n",
      "Epoch 7/40\n",
      "5322634/5322634 [==============================] - 29s 5us/step - loss: 0.3776 - auc_3: 0.5318 - val_loss: 0.3780 - val_auc_3: 0.5325\n",
      "Epoch 8/40\n",
      "5322634/5322634 [==============================] - 28s 5us/step - loss: 0.3772 - auc_3: 0.5333 - val_loss: 0.3779 - val_auc_3: 0.5339\n",
      "Epoch 9/40\n",
      "5322634/5322634 [==============================] - 29s 6us/step - loss: 0.3768 - auc_3: 0.5345 - val_loss: 0.3775 - val_auc_3: 0.5351\n",
      "Epoch 10/40\n",
      "5322634/5322634 [==============================] - 30s 6us/step - loss: 0.3765 - auc_3: 0.5356 - val_loss: 0.3771 - val_auc_3: 0.5362\n",
      "Epoch 11/40\n",
      "5322634/5322634 [==============================] - 33s 6us/step - loss: 0.3761 - auc_3: 0.5367 - val_loss: 0.3771 - val_auc_3: 0.5372\n",
      "Epoch 12/40\n",
      "5322634/5322634 [==============================] - 29s 5us/step - loss: 0.3758 - auc_3: 0.5376 - val_loss: 0.3770 - val_auc_3: 0.5380\n",
      "Epoch 13/40\n",
      "5322634/5322634 [==============================] - 27s 5us/step - loss: 0.3756 - auc_3: 0.5385 - val_loss: 0.3763 - val_auc_3: 0.5389\n",
      "Epoch 14/40\n",
      "5322634/5322634 [==============================] - 30s 6us/step - loss: 0.3753 - auc_3: 0.5393 - val_loss: 0.3763 - val_auc_3: 0.5397\n",
      "Epoch 15/40\n",
      "5322634/5322634 [==============================] - 33s 6us/step - loss: 0.3751 - auc_3: 0.5400 - val_loss: 0.3766 - val_auc_3: 0.5404\n",
      "Epoch 16/40\n",
      "5322634/5322634 [==============================] - 32s 6us/step - loss: 0.3748 - auc_3: 0.5407 - val_loss: 0.3761 - val_auc_3: 0.5410\n",
      "Epoch 17/40\n",
      "5322634/5322634 [==============================] - 29s 6us/step - loss: 0.3746 - auc_3: 0.5413 - val_loss: 0.3763 - val_auc_3: 0.5416\n",
      "Epoch 18/40\n",
      "5322634/5322634 [==============================] - 29s 6us/step - loss: 0.3745 - auc_3: 0.5419 - val_loss: 0.3759 - val_auc_3: 0.5422\n",
      "Epoch 19/40\n",
      "5322634/5322634 [==============================] - 33s 6us/step - loss: 0.3744 - auc_3: 0.5424 - val_loss: 0.3757 - val_auc_3: 0.5427\n",
      "Epoch 20/40\n",
      "5322634/5322634 [==============================] - 34s 6us/step - loss: 0.3742 - auc_3: 0.5430 - val_loss: 0.3755 - val_auc_3: 0.5432\n",
      "Epoch 21/40\n",
      "5322634/5322634 [==============================] - 28s 5us/step - loss: 0.3740 - auc_3: 0.5434 - val_loss: 0.3756 - val_auc_3: 0.5436\n",
      "Epoch 22/40\n",
      "5322634/5322634 [==============================] - 29s 5us/step - loss: 0.3739 - auc_3: 0.5439 - val_loss: 0.3758 - val_auc_3: 0.5441\n",
      "Epoch 23/40\n",
      "5322634/5322634 [==============================] - 33s 6us/step - loss: 0.3738 - auc_3: 0.5443 - val_loss: 0.3752 - val_auc_3: 0.5445\n",
      "Epoch 24/40\n",
      "5322634/5322634 [==============================] - 32s 6us/step - loss: 0.3737 - auc_3: 0.5447 - val_loss: 0.3752 - val_auc_3: 0.5449\n",
      "Epoch 25/40\n",
      "5322634/5322634 [==============================] - 31s 6us/step - loss: 0.3736 - auc_3: 0.5451 - val_loss: 0.3751 - val_auc_3: 0.5453\n",
      "Epoch 26/40\n",
      "5322634/5322634 [==============================] - 32s 6us/step - loss: 0.3734 - auc_3: 0.5455 - val_loss: 0.3752 - val_auc_3: 0.5456\n",
      "Epoch 27/40\n",
      "5322634/5322634 [==============================] - 31s 6us/step - loss: 0.3734 - auc_3: 0.5458 - val_loss: 0.3749 - val_auc_3: 0.5459\n",
      "Epoch 28/40\n",
      "5322634/5322634 [==============================] - 30s 6us/step - loss: 0.3733 - auc_3: 0.5461 - val_loss: 0.3751 - val_auc_3: 0.5463\n",
      "Epoch 29/40\n",
      "5322634/5322634 [==============================] - 26s 5us/step - loss: 0.3732 - auc_3: 0.5464 - val_loss: 0.3751 - val_auc_3: 0.5465\n",
      "Epoch 30/40\n",
      "5322634/5322634 [==============================] - 27s 5us/step - loss: 0.3731 - auc_3: 0.5467 - val_loss: 0.3748 - val_auc_3: 0.5468\n",
      "Epoch 31/40\n",
      "5322634/5322634 [==============================] - 27s 5us/step - loss: 0.3730 - auc_3: 0.5470 - val_loss: 0.3750 - val_auc_3: 0.5471\n",
      "Epoch 32/40\n",
      "5322634/5322634 [==============================] - 26s 5us/step - loss: 0.3729 - auc_3: 0.5473 - val_loss: 0.3747 - val_auc_3: 0.5474\n",
      "Epoch 33/40\n",
      "5322634/5322634 [==============================] - 25s 5us/step - loss: 0.3729 - auc_3: 0.5475 - val_loss: 0.3746 - val_auc_3: 0.5477\n",
      "Epoch 34/40\n",
      "5322634/5322634 [==============================] - 30s 6us/step - loss: 0.3728 - auc_3: 0.5478 - val_loss: 0.3744 - val_auc_3: 0.5479\n",
      "Epoch 35/40\n",
      "5322634/5322634 [==============================] - 31s 6us/step - loss: 0.3727 - auc_3: 0.5480 - val_loss: 0.3748 - val_auc_3: 0.5482\n",
      "Epoch 36/40\n",
      "5322634/5322634 [==============================] - 34s 6us/step - loss: 0.3727 - auc_3: 0.5483 - val_loss: 0.3747 - val_auc_3: 0.5484\n",
      "Epoch 37/40\n",
      "5322634/5322634 [==============================] - 30s 6us/step - loss: 0.3726 - auc_3: 0.5485 - val_loss: 0.3744 - val_auc_3: 0.5486\n",
      "Epoch 38/40\n",
      "5322634/5322634 [==============================] - 29s 6us/step - loss: 0.3725 - auc_3: 0.5487 - val_loss: 0.3743 - val_auc_3: 0.5488\n",
      "Epoch 39/40\n",
      "5322634/5322634 [==============================] - 30s 6us/step - loss: 0.3725 - auc_3: 0.5489 - val_loss: 0.3743 - val_auc_3: 0.5490\n",
      "Epoch 40/40\n",
      "5322634/5322634 [==============================] - 31s 6us/step - loss: 0.3724 - auc_3: 0.5491 - val_loss: 0.3743 - val_auc_3: 0.5492\n"
     ]
    }
   ],
   "source": [
    "# FEED FORWARD NEURAL NETWORK\n",
    "# \n",
    "# Instantiate your network\n",
    "model = Sequential()\n",
    "\n",
    "# First layer\n",
    "model.add(Dense(128, # number of nodes in the first hidden layer\n",
    "               input_shape = (X_train.shape[1],), # the shape of each observation\n",
    "               activation = 'relu')) \n",
    "# Hidden layer \n",
    "model.add(Dense(64, activation=\"relu\")) #(power of 2)\n",
    "# model.add(Dropout(0.20)) #Regularization, to avoid over fitting\n",
    "model.add(Dense(8, activation=\"relu\")) #(power of 2)\n",
    "# model.add(Dropout(0.30)) #Regularization, to avoid over fitting\n",
    "# Output layer.\n",
    "model.add(Dense(1, activation = 'sigmoid'))\n",
    "\n",
    "# Compile our model\n",
    "# Used metric as AUC with specificatin to 'PR'=precision/recall\n",
    "# Source: https://www.tensorflow.org/api_docs/python/tf/keras/metrics/AUC\n",
    "model.compile(loss = 'binary_crossentropy',optimizer = 'adam',\n",
    "              metrics = [AUC(curve = 'PR')]) # Setting accuracy as metric \"auprc\"\n",
    "\n",
    "hist = model.fit(X_train, y_train,  \n",
    "                 epochs = 40, # number of times we pass each observations through\n",
    "                 batch_size = 3_000, # sample size passed through\n",
    "                 validation_data=(X_test, y_test),\n",
    "                 verbose = 1) # how much progress we are making"
   ]
  },
  {
   "cell_type": "code",
   "execution_count": 26,
   "metadata": {},
   "outputs": [],
   "source": [
    "# Save the models to disk\n",
    "pickle.dump(lr_best_estimator, open('LogisticRegression.sav', 'wb'))\n",
    "pickle.dump(rf_best_estimator, open('RandomForest.sav', 'wb'))\n",
    "pickle.dump(ab_best_estimator, open('AdaBoost.sav', 'wb'))\n",
    "pickle.dump(model, open('FFNeuralNetwork.sav', 'wb'))"
   ]
  },
  {
   "cell_type": "code",
   "execution_count": 7,
   "metadata": {},
   "outputs": [
    {
     "name": "stderr",
     "output_type": "stream",
     "text": [
      "/Users/juliev/opt/anaconda3/lib/python3.7/site-packages/sklearn/utils/deprecation.py:144: FutureWarning: The sklearn.ensemble.forest module is  deprecated in version 0.22 and will be removed in version 0.24. The corresponding classes / functions should instead be imported from sklearn.ensemble. Anything that cannot be imported from sklearn.ensemble is now part of the private API.\n",
      "  warnings.warn(message, FutureWarning)\n",
      "/Users/juliev/opt/anaconda3/lib/python3.7/site-packages/sklearn/utils/deprecation.py:144: FutureWarning: The sklearn.tree.tree module is  deprecated in version 0.22 and will be removed in version 0.24. The corresponding classes / functions should instead be imported from sklearn.tree. Anything that cannot be imported from sklearn.tree is now part of the private API.\n",
      "  warnings.warn(message, FutureWarning)\n",
      "/Users/juliev/opt/anaconda3/lib/python3.7/site-packages/sklearn/base.py:318: UserWarning: Trying to unpickle estimator DecisionTreeClassifier from version 0.21.3 when using version 0.22.2. This might lead to breaking code or invalid results. Use at your own risk.\n",
      "  UserWarning)\n",
      "/Users/juliev/opt/anaconda3/lib/python3.7/site-packages/sklearn/base.py:318: UserWarning: Trying to unpickle estimator RandomForestClassifier from version 0.21.3 when using version 0.22.2. This might lead to breaking code or invalid results. Use at your own risk.\n",
      "  UserWarning)\n",
      "/Users/juliev/opt/anaconda3/lib/python3.7/site-packages/sklearn/base.py:318: UserWarning: Trying to unpickle estimator Pipeline from version 0.21.3 when using version 0.22.2. This might lead to breaking code or invalid results. Use at your own risk.\n",
      "  UserWarning)\n"
     ]
    }
   ],
   "source": [
    "# Load the model from disk\n",
    "loaded_model = pickle.load(open('RandomForest.sav', 'rb'))\n",
    "result = loaded_model.score(X_test, y_test)"
   ]
  },
  {
   "cell_type": "markdown",
   "metadata": {},
   "source": [
    "### Model Selection"
   ]
  },
  {
   "cell_type": "markdown",
   "metadata": {},
   "source": [
    " Models performance table:   \n",
    "\n",
    "|   Classifier   | Train Score | Test Score |  |\n",
    "|------------|------------|-------------|------------|\n",
    "|      Base Line      | 0.18  | 0.18       |            |\n",
    "| Logistic Regression | 0.493| 0.492        |        |\n",
    "|  **Random Forest**  |**0.646** | **0.561**        |       |\n",
    "|    AdaBoost   |0.497 | 0.495      |      |\n",
    "|    Feed Forward Neural Network   | 0.549 | 0.549     |       |\n",
    "\n",
    "\n",
    "Relative to our baseline performance all of our complex models performed with stronger average precision score.  \n",
    "Based on our models average precision scores we decided to choose Random Forest model as our best model for predictions with strongest Train(0.711) and Test(0.568). The Random Forest model is overfit and requires some further tuning, but we believe that will still perform better than other models. "
   ]
  },
  {
   "cell_type": "markdown",
   "metadata": {},
   "source": [
    "#### Confusion Matrix \n",
    "Visualizing Confusion Matrix. In this case we are trying to optimize our Average Precision Score by decreasing False Positive."
   ]
  },
  {
   "cell_type": "code",
   "execution_count": 31,
   "metadata": {},
   "outputs": [
    {
     "data": {
      "image/png": "[encoded data removed]",
      "text/plain": [
       "<Figure size 432x288 with 1 Axes>"
      ]
     },
     "metadata": {},
     "output_type": "display_data"
    }
   ],
   "source": [
    "plot_matrix(confusion_matrix(y_test, rf_preds), 'Random Forest Model')"
   ]
  },
  {
   "cell_type": "markdown",
   "metadata": {},
   "source": [
    "**Observation:**    \n",
    "Our Random Forest Model has higher average precision score (0.568) than the baseline model, which means that out of all positive predictions our model identified 56% were actually positive. "
   ]
  },
  {
   "cell_type": "markdown",
   "metadata": {},
   "source": [
    "#### Precision-Recall Curve\n",
    "Unlike ROC AUC Curve, **Precision-recall Curve is more appropriate for unbalanced classes.**  \n",
    "\n",
    "Precision-Recall curve shows the trade-off between precision and recall for different threshold. A high area under the curve represents both high recall and high precision, where high precision relates to a low false positive rate, and high recall relates to a low false negative rate. High scores for both show that the classifier is returning accurate results (high precision), as well as returning a majority of all positive results (high recall).\n",
    "\n",
    "Precision - How accurate the positive predictions are  \n",
    "Recall/Sensitivity - Coverage of actual positive sample  \n",
    "\n"
   ]
  },
  {
   "cell_type": "code",
   "execution_count": 32,
   "metadata": {},
   "outputs": [
    {
     "name": "stderr",
     "output_type": "stream",
     "text": [
      "/Users/juliev/opt/anaconda3/lib/python3.7/site-packages/IPython/core/events.py:88: UserWarning: Creating legend with loc=\"best\" can be slow with large amounts of data.\n",
      "  func(*args, **kwargs)\n",
      "/Users/juliev/opt/anaconda3/lib/python3.7/site-packages/IPython/core/pylabtools.py:128: UserWarning: Creating legend with loc=\"best\" can be slow with large amounts of data.\n",
      "  fig.canvas.print_figure(bytes_io, **kw)\n"
     ]
    },
    {
     "data": {
      "image/png": "[encoded data removed]",
      "text/plain": [
       "<Figure size 432x288 with 1 Axes>"
      ]
     },
     "metadata": {},
     "output_type": "display_data"
    }
   ],
   "source": [
    "# Plot the precision-recall curves\n",
    "sns.set_style(\"whitegrid\")\n",
    "disp = plot_precision_recall_curve(loaded_model, \n",
    "                                   X_test, y_test, \n",
    "                                   label='Random Forest')\n",
    "plt.plot([0, 1], [0.18, 0.18], linestyle='--', label='Baseline');\n",
    "# Labels\n",
    "plt.title('Precision-Recall Curves',size = 27)\n",
    "plt.xlabel('Recall',size = 15);\n",
    "plt.ylabel('Precision',size = 15);\n",
    "# Show the legend\n",
    "plt.legend();"
   ]
  },
  {
   "attachments": {},
   "cell_type": "markdown",
   "metadata": {},
   "source": [
    "#### Coefficients  \n",
    "Since our data was scaled and logistic regression model was regularized we have no interpretable models to view coefficients of each feature. For that we would have to use stats models."
   ]
  },
  {
   "attachments": {},
   "cell_type": "markdown",
   "metadata": {},
   "source": [
    "### Conclusion and Recommendations \n",
    "After doing the initial cleanup we were able identify features that are appropriate to use in predicting flight departure delay. Then, we implemented some feature engineering: \n",
    "1. We collected information from the prior flight on that day, including same day prior flights count, prior origin and whether the plane had departure delay from previous flight\n",
    "2. Converted cyclical features into sine and cosine alternatives\n",
    "3. We also implemented interactions with features with highest correlation to the target.  \n",
    "4. Ordinal features, e.g. origin and destination airports, were transformed through LabelEncoder, instead of DummyRegressor. It saved us memory space dramatically and predictive models ran much faster. \n",
    "\n",
    "Scores of our models are as following: \n",
    "\n",
    "|   Classifier   | Train Score | Test Score |  |\n",
    "|------------|------------|-------------|------------|\n",
    "|      Base Line      | 0.18  | 0.18       |            |\n",
    "| Logistic Regression | 0.493| 0.492        |        |\n",
    "|  **Random Forest**  |**0.646** | **0.561**        |       |\n",
    "|    AdaBoost   |0.497 | 0.495      |      |\n",
    "|    Feed Forward Neural Network   | 0.543 | 0.544     |       |\n",
    "\n",
    "All the models we have trained outperformed the Base Line model. Random Forest had the highest Train and Test average precision score. The scores were 0.711 and 0.5682 on the Train and Test respectfully. Even though our Random Forest model is overfit it performed better than other models we still think there is a scope of improvement. We need to tune it by reducing maximum features and maximum depth of each tree.  \n",
    "\n",
    "Since none of our models are interpretable for feature coefficients, we would have to run data through stats models as a future steps to identify the significance of each feature. \n",
    "\n",
    "We noticed that our model has limitations. Since we have collected local flights for one year 2018, it only works for local flights and local carriers and it does not take in consideration any economic factors. For example, corona virus outbreak that lead to most flights to be canceled. Other factors that might change over time are (1) airport architectural restructure, that leads to a better internal airport workflow and minimizes departure delays, (2) updating the fleet with newer airplane models that have higher performance rate and require less maintenance."
   ]
  },
  {
   "cell_type": "markdown",
   "metadata": {},
   "source": [
    "### Next Steps\n",
    "First, we plan to identify the significance of each feature by using stats models.  \n",
    "Also, according to the [Federal Aviation Administration](https://www.sciencedirect.com/science/article/pii/S2212012218300753), most of the delays in winter are due to surface winds, low ceiling and low visibility, whereas during summer the majority of delays is attributable to convective weather, low ceiling and associated low visibility (Federal Aviation Administration, 2017).  \n",
    "It will be wise to include daily weather data, like wind speed and precipitation rate, for each origin and destination location for each flight. Here are some resources that can help with that:  \n",
    "1. [noaa.gov](https://www.ncdc.noaa.gov/cdo-web/)\n",
    "2. [weather.gov](https://www.weather.gov/help-past-weather)\n",
    "\n",
    "Additionally, we would also use data about each plane used for the flight. [flightradar24.com](https://www.flightradar24.com/data/aircraft/) website has extensive dataset for almost all planes that are in use by local airlines. This might help to identify those flight delays that occur due manufacture quality or age of the plane. "
   ]
  },
  {
   "cell_type": "markdown",
   "metadata": {},
   "source": [
    "## References\n",
    "www.transtats.bts.gov  \n",
    "www.noaa.gov  \n",
    "www.weather.gov  \n",
    "www.flightradar24.com  \n",
    "www.faa.gov  \n",
    "https://medium.com/ai%C2%B3-theory-practice-business/top-6-errors-novice-machine-learning-engineers-make-e82273d394db  "
   ]
  }
 ],
 "metadata": {
  "kernelspec": {
   "display_name": "Python 3",
   "language": "python",
   "name": "python3"
  },
  "language_info": {
   "codemirror_mode": {
    "name": "ipython",
    "version": 3
   },
   "file_extension": ".py",
   "mimetype": "text/x-python",
   "name": "python",
   "nbconvert_exporter": "python",
   "pygments_lexer": "ipython3",
   "version": "3.7.4"
  }
 },
 "nbformat": 4,
 "nbformat_minor": 2
}
