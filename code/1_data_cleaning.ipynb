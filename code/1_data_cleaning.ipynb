{
 "cells": [
  {
   "cell_type": "markdown",
   "metadata": {},
   "source": [
    "# Capstone Project: Airline Departure Delays\n",
    "# Notebook I (Data Cleaning)\n"
   ]
  },
  {
   "cell_type": "markdown",
   "metadata": {},
   "source": [
    "Author: Julie Vovchenko"
   ]
  },
  {
   "cell_type": "markdown",
   "metadata": {},
   "source": [
    "---"
   ]
  },
  {
   "cell_type": "markdown",
   "metadata": {},
   "source": [
    "## Table of Content:\n",
    "- [Reading Files](#Reading-Files)\n",
    "    -  [First Half of the Year](#First-Half-of-the-Year)  \n",
    "    -  [Second Half of the Year](#First-Half-of-the-Year) \n",
    "-  [Canceled Flights](#Canceled-Flights)  \n",
    "-  [Checking Null Values](#Checking-Null-Values) \n",
    "-  [Saving Cleaned Data to File](#Saving-Cleaned-Data-to-File) \n",
    "\n",
    "## Datasets\n",
    "\n",
    "- [Data for January 2018](../data/1014682883_T_ONTIME_REPORTING_2018_1.csv)\n",
    "- [Data for February 2018](../data/1014682883_T_ONTIME_REPORTING_2018_2.csv)\n",
    "- [Data for March 2018](../data/1014682883_T_ONTIME_REPORTING_2018_3.csv)\n",
    "- [Data for April 2018](../data/1014682883_T_ONTIME_REPORTING_2018_4.csv)\n",
    "- [Data for May 2018](../data/1014682883_T_ONTIME_REPORTING_2018_5.csv)\n",
    "- [Data for June 2018](../data/1014682883_T_ONTIME_REPORTING_2018_6.csv)\n",
    "- [Data for July 2018](../data/1014682883_T_ONTIME_REPORTING_2018_7.csv)\n",
    "- [Data for August 2018](../data/1014682883_T_ONTIME_REPORTING_2018_8.csv)\n",
    "- [Data for September 2018](../data/1014682883_T_ONTIME_REPORTING_2018_9.csv)\n",
    "- [Data for October 2018](../data/1014682883_T_ONTIME_REPORTING_2018_10.csv)\n",
    "- [Data for November 2018](../data/1014682883_T_ONTIME_REPORTING_2018_11.csv)\n",
    "- [Data for December 2018](../data/1014682883_T_ONTIME_REPORTING_2018_12.csv)"
   ]
  },
  {
   "cell_type": "markdown",
   "metadata": {},
   "source": [
    "The data was provided by the Bureau of Transportation Statistics under this website:  \n",
    "https://www.transtats.bts.gov/DL_SelectFields.asp?Table_ID=236"
   ]
  },
  {
   "cell_type": "code",
   "execution_count": 1,
   "metadata": {},
   "outputs": [],
   "source": [
    "# Importing Libraries\n",
    "import seaborn as sns\n",
    "import numpy as np\n",
    "import pandas as pd"
   ]
  },
  {
   "cell_type": "markdown",
   "metadata": {},
   "source": [
    "## Reading Files"
   ]
  },
  {
   "cell_type": "markdown",
   "metadata": {},
   "source": [
    "### First Half of the Year"
   ]
  },
  {
   "cell_type": "code",
   "execution_count": 2,
   "metadata": {},
   "outputs": [
    {
     "name": "stderr",
     "output_type": "stream",
     "text": [
      "/Users/juliev/opt/anaconda3/lib/python3.7/site-packages/IPython/core/interactiveshell.py:3058: DtypeWarning: Columns (68,75) have mixed types. Specify dtype option on import or set low_memory=False.\n",
      "  interactivity=interactivity, compiler=compiler, result=result)\n"
     ]
    }
   ],
   "source": [
    "# Reading 6 csv files for the first half of the year\n",
    "jan = pd.read_csv('../data/1014682883_T_ONTIME_REPORTING_2018_1.csv')\n",
    "feb = pd.read_csv('../data/1014682883_T_ONTIME_REPORTING_2018_2.csv')\n",
    "mar = pd.read_csv('../data/1014682883_T_ONTIME_REPORTING_2018_3.csv')\n",
    "apr = pd.read_csv('../data/1014682883_T_ONTIME_REPORTING_2018_4.csv')\n",
    "may = pd.read_csv('../data/1014682883_T_ONTIME_REPORTING_2018_5.csv')\n",
    "jun = pd.read_csv('../data/1014682883_T_ONTIME_REPORTING_2018_6.csv')"
   ]
  },
  {
   "cell_type": "code",
   "execution_count": 3,
   "metadata": {},
   "outputs": [
    {
     "data": {
      "text/plain": [
       "3541604"
      ]
     },
     "execution_count": 3,
     "metadata": {},
     "output_type": "execute_result"
    }
   ],
   "source": [
    "# Calculating the total number of rows for first half of the year\n",
    "jan.shape[0] + feb.shape[0] +mar.shape[0] +apr.shape[0] +may.shape[0] +jun.shape[0]"
   ]
  },
  {
   "cell_type": "code",
   "execution_count": 4,
   "metadata": {},
   "outputs": [
    {
     "data": {
      "text/plain": [
       "(3541604, 76)"
      ]
     },
     "execution_count": 4,
     "metadata": {},
     "output_type": "execute_result"
    }
   ],
   "source": [
    "# Concatinating first half of the year in one dataframe\n",
    "df1 = pd.concat([jan, feb, mar, apr, may, jun])\n",
    "df1 = df1.drop('Unnamed: 76', axis=1)\n",
    "# Checking the size of the dataset with first half of the year\n",
    "df1.shape"
   ]
  },
  {
   "cell_type": "markdown",
   "metadata": {},
   "source": [
    "### Second Half of the Year"
   ]
  },
  {
   "cell_type": "code",
   "execution_count": 5,
   "metadata": {},
   "outputs": [],
   "source": [
    "# Reading 6 csv files for the second half of the year\n",
    "jul = pd.read_csv('../data/1014682883_T_ONTIME_REPORTING_2018_7.csv')\n",
    "aug = pd.read_csv('../data/1014682883_T_ONTIME_REPORTING_2018_8.csv')\n",
    "sep = pd.read_csv('../data/1014682883_T_ONTIME_REPORTING_2018_9.csv')\n",
    "octb = pd.read_csv('../data/1014682883_T_ONTIME_REPORTING_2018_10.csv')\n",
    "nov = pd.read_csv('../data/1014682883_T_ONTIME_REPORTING_2018_11.csv')\n",
    "dec = pd.read_csv('../data/1014682883_T_ONTIME_REPORTING_2018_12.csv')"
   ]
  },
  {
   "cell_type": "code",
   "execution_count": 6,
   "metadata": {},
   "outputs": [
    {
     "data": {
      "text/plain": [
       "3671842"
      ]
     },
     "execution_count": 6,
     "metadata": {},
     "output_type": "execute_result"
    }
   ],
   "source": [
    "# Calculating the total number of rows for second half of the year\n",
    "jul.shape[0] + aug.shape[0] +sep.shape[0] +octb.shape[0] +nov.shape[0] +dec.shape[0]"
   ]
  },
  {
   "cell_type": "code",
   "execution_count": 7,
   "metadata": {},
   "outputs": [
    {
     "data": {
      "text/plain": [
       "(3671842, 76)"
      ]
     },
     "execution_count": 7,
     "metadata": {},
     "output_type": "execute_result"
    }
   ],
   "source": [
    "# Concatenating second half of the year in one dataframe\n",
    "df2 = pd.concat([jul, aug, sep, octb, nov, dec])\n",
    "df2 = df2.drop('Unnamed: 76', axis=1)\n",
    "# Checking the size of the dataset with second half of the year\n",
    "df2.shape"
   ]
  },
  {
   "cell_type": "code",
   "execution_count": 8,
   "metadata": {},
   "outputs": [
    {
     "name": "stdout",
     "output_type": "stream",
     "text": [
      "Sum of rows for both dataframes: 7213446\n",
      "Total count of rows for concatenated dataframe: 7213446\n"
     ]
    }
   ],
   "source": [
    "# Merging both datasets into one for the entire 2018\n",
    "df = pd.concat([df1, df2])\n",
    "# Checking the size of the concatinated dataframe\n",
    "print(f'Sum of rows for both dataframes: {df1.shape[0] + df2.shape[0]}')\n",
    "print(f'Total count of rows for concatenated dataframe: {df.shape[0]}')"
   ]
  },
  {
   "cell_type": "markdown",
   "metadata": {},
   "source": [
    "**Observation:**  \n",
    "Concatenation was successful. Total sum of rows match."
   ]
  },
  {
   "cell_type": "code",
   "execution_count": 9,
   "metadata": {},
   "outputs": [
    {
     "data": {
      "text/html": [
       "<div>\n",
       "<style scoped>\n",
       "    .dataframe tbody tr th:only-of-type {\n",
       "        vertical-align: middle;\n",
       "    }\n",
       "\n",
       "    .dataframe tbody tr th {\n",
       "        vertical-align: top;\n",
       "    }\n",
       "\n",
       "    .dataframe thead th {\n",
       "        text-align: right;\n",
       "    }\n",
       "</style>\n",
       "<table border=\"1\" class=\"dataframe\">\n",
       "  <thead>\n",
       "    <tr style=\"text-align: right;\">\n",
       "      <th></th>\n",
       "      <th>YEAR</th>\n",
       "      <th>QUARTER</th>\n",
       "      <th>MONTH</th>\n",
       "      <th>DAY_OF_MONTH</th>\n",
       "      <th>DAY_OF_WEEK</th>\n",
       "      <th>FL_DATE</th>\n",
       "      <th>OP_UNIQUE_CARRIER</th>\n",
       "      <th>OP_CARRIER_AIRLINE_ID</th>\n",
       "      <th>OP_CARRIER</th>\n",
       "      <th>TAIL_NUM</th>\n",
       "      <th>...</th>\n",
       "      <th>DIV_ARR_DELAY</th>\n",
       "      <th>DIV_DISTANCE</th>\n",
       "      <th>DIV1_AIRPORT</th>\n",
       "      <th>DIV1_AIRPORT_ID</th>\n",
       "      <th>DIV1_AIRPORT_SEQ_ID</th>\n",
       "      <th>DIV1_WHEELS_ON</th>\n",
       "      <th>DIV1_TOTAL_GTIME</th>\n",
       "      <th>DIV1_LONGEST_GTIME</th>\n",
       "      <th>DIV1_WHEELS_OFF</th>\n",
       "      <th>DIV1_TAIL_NUM</th>\n",
       "    </tr>\n",
       "  </thead>\n",
       "  <tbody>\n",
       "    <tr>\n",
       "      <th>0</th>\n",
       "      <td>2018</td>\n",
       "      <td>1</td>\n",
       "      <td>1</td>\n",
       "      <td>27</td>\n",
       "      <td>6</td>\n",
       "      <td>2018-01-27</td>\n",
       "      <td>UA</td>\n",
       "      <td>19977</td>\n",
       "      <td>UA</td>\n",
       "      <td>N26232</td>\n",
       "      <td>...</td>\n",
       "      <td>NaN</td>\n",
       "      <td>NaN</td>\n",
       "      <td>NaN</td>\n",
       "      <td>NaN</td>\n",
       "      <td>NaN</td>\n",
       "      <td>NaN</td>\n",
       "      <td>NaN</td>\n",
       "      <td>NaN</td>\n",
       "      <td>NaN</td>\n",
       "      <td>NaN</td>\n",
       "    </tr>\n",
       "    <tr>\n",
       "      <th>1</th>\n",
       "      <td>2018</td>\n",
       "      <td>1</td>\n",
       "      <td>1</td>\n",
       "      <td>27</td>\n",
       "      <td>6</td>\n",
       "      <td>2018-01-27</td>\n",
       "      <td>UA</td>\n",
       "      <td>19977</td>\n",
       "      <td>UA</td>\n",
       "      <td>N477UA</td>\n",
       "      <td>...</td>\n",
       "      <td>NaN</td>\n",
       "      <td>NaN</td>\n",
       "      <td>NaN</td>\n",
       "      <td>NaN</td>\n",
       "      <td>NaN</td>\n",
       "      <td>NaN</td>\n",
       "      <td>NaN</td>\n",
       "      <td>NaN</td>\n",
       "      <td>NaN</td>\n",
       "      <td>NaN</td>\n",
       "    </tr>\n",
       "    <tr>\n",
       "      <th>2</th>\n",
       "      <td>2018</td>\n",
       "      <td>1</td>\n",
       "      <td>1</td>\n",
       "      <td>27</td>\n",
       "      <td>6</td>\n",
       "      <td>2018-01-27</td>\n",
       "      <td>UA</td>\n",
       "      <td>19977</td>\n",
       "      <td>UA</td>\n",
       "      <td>N13720</td>\n",
       "      <td>...</td>\n",
       "      <td>NaN</td>\n",
       "      <td>NaN</td>\n",
       "      <td>NaN</td>\n",
       "      <td>NaN</td>\n",
       "      <td>NaN</td>\n",
       "      <td>NaN</td>\n",
       "      <td>NaN</td>\n",
       "      <td>NaN</td>\n",
       "      <td>NaN</td>\n",
       "      <td>NaN</td>\n",
       "    </tr>\n",
       "    <tr>\n",
       "      <th>3</th>\n",
       "      <td>2018</td>\n",
       "      <td>1</td>\n",
       "      <td>1</td>\n",
       "      <td>27</td>\n",
       "      <td>6</td>\n",
       "      <td>2018-01-27</td>\n",
       "      <td>UA</td>\n",
       "      <td>19977</td>\n",
       "      <td>UA</td>\n",
       "      <td>N16217</td>\n",
       "      <td>...</td>\n",
       "      <td>NaN</td>\n",
       "      <td>NaN</td>\n",
       "      <td>NaN</td>\n",
       "      <td>NaN</td>\n",
       "      <td>NaN</td>\n",
       "      <td>NaN</td>\n",
       "      <td>NaN</td>\n",
       "      <td>NaN</td>\n",
       "      <td>NaN</td>\n",
       "      <td>NaN</td>\n",
       "    </tr>\n",
       "    <tr>\n",
       "      <th>4</th>\n",
       "      <td>2018</td>\n",
       "      <td>1</td>\n",
       "      <td>1</td>\n",
       "      <td>27</td>\n",
       "      <td>6</td>\n",
       "      <td>2018-01-27</td>\n",
       "      <td>UA</td>\n",
       "      <td>19977</td>\n",
       "      <td>UA</td>\n",
       "      <td>N33714</td>\n",
       "      <td>...</td>\n",
       "      <td>NaN</td>\n",
       "      <td>NaN</td>\n",
       "      <td>NaN</td>\n",
       "      <td>NaN</td>\n",
       "      <td>NaN</td>\n",
       "      <td>NaN</td>\n",
       "      <td>NaN</td>\n",
       "      <td>NaN</td>\n",
       "      <td>NaN</td>\n",
       "      <td>NaN</td>\n",
       "    </tr>\n",
       "  </tbody>\n",
       "</table>\n",
       "<p>5 rows × 76 columns</p>\n",
       "</div>"
      ],
      "text/plain": [
       "   YEAR  QUARTER  MONTH  DAY_OF_MONTH  DAY_OF_WEEK     FL_DATE  \\\n",
       "0  2018        1      1            27            6  2018-01-27   \n",
       "1  2018        1      1            27            6  2018-01-27   \n",
       "2  2018        1      1            27            6  2018-01-27   \n",
       "3  2018        1      1            27            6  2018-01-27   \n",
       "4  2018        1      1            27            6  2018-01-27   \n",
       "\n",
       "  OP_UNIQUE_CARRIER  OP_CARRIER_AIRLINE_ID OP_CARRIER TAIL_NUM  ...  \\\n",
       "0                UA                  19977         UA   N26232  ...   \n",
       "1                UA                  19977         UA   N477UA  ...   \n",
       "2                UA                  19977         UA   N13720  ...   \n",
       "3                UA                  19977         UA   N16217  ...   \n",
       "4                UA                  19977         UA   N33714  ...   \n",
       "\n",
       "   DIV_ARR_DELAY  DIV_DISTANCE  DIV1_AIRPORT  DIV1_AIRPORT_ID  \\\n",
       "0            NaN           NaN           NaN              NaN   \n",
       "1            NaN           NaN           NaN              NaN   \n",
       "2            NaN           NaN           NaN              NaN   \n",
       "3            NaN           NaN           NaN              NaN   \n",
       "4            NaN           NaN           NaN              NaN   \n",
       "\n",
       "  DIV1_AIRPORT_SEQ_ID DIV1_WHEELS_ON DIV1_TOTAL_GTIME  DIV1_LONGEST_GTIME  \\\n",
       "0                 NaN            NaN              NaN                 NaN   \n",
       "1                 NaN            NaN              NaN                 NaN   \n",
       "2                 NaN            NaN              NaN                 NaN   \n",
       "3                 NaN            NaN              NaN                 NaN   \n",
       "4                 NaN            NaN              NaN                 NaN   \n",
       "\n",
       "  DIV1_WHEELS_OFF  DIV1_TAIL_NUM  \n",
       "0             NaN            NaN  \n",
       "1             NaN            NaN  \n",
       "2             NaN            NaN  \n",
       "3             NaN            NaN  \n",
       "4             NaN            NaN  \n",
       "\n",
       "[5 rows x 76 columns]"
      ]
     },
     "execution_count": 9,
     "metadata": {},
     "output_type": "execute_result"
    }
   ],
   "source": [
    "# Getting the first look at the resulting dataframe\n",
    "df.head()"
   ]
  },
  {
   "cell_type": "markdown",
   "metadata": {},
   "source": [
    "### Canceled Flights"
   ]
  },
  {
   "cell_type": "code",
   "execution_count": 14,
   "metadata": {},
   "outputs": [
    {
     "data": {
      "text/plain": [
       "array([0., 1.])"
      ]
     },
     "execution_count": 14,
     "metadata": {},
     "output_type": "execute_result"
    }
   ],
   "source": [
    "# Checking how many values this column represents\n",
    "df['CANCELLED'].unique()"
   ]
  },
  {
   "cell_type": "code",
   "execution_count": 13,
   "metadata": {},
   "outputs": [
    {
     "data": {
      "text/plain": [
       "(116584, 76)"
      ]
     },
     "execution_count": 13,
     "metadata": {},
     "output_type": "execute_result"
    }
   ],
   "source": [
    "# Getting the number of rows for canceled flights\n",
    "df[df['CANCELLED'] == 1].shape"
   ]
  },
  {
   "cell_type": "code",
   "execution_count": 15,
   "metadata": {},
   "outputs": [
    {
     "data": {
      "text/html": [
       "<div>\n",
       "<style scoped>\n",
       "    .dataframe tbody tr th:only-of-type {\n",
       "        vertical-align: middle;\n",
       "    }\n",
       "\n",
       "    .dataframe tbody tr th {\n",
       "        vertical-align: top;\n",
       "    }\n",
       "\n",
       "    .dataframe thead th {\n",
       "        text-align: right;\n",
       "    }\n",
       "</style>\n",
       "<table border=\"1\" class=\"dataframe\">\n",
       "  <thead>\n",
       "    <tr style=\"text-align: right;\">\n",
       "      <th></th>\n",
       "      <th>YEAR</th>\n",
       "      <th>QUARTER</th>\n",
       "      <th>MONTH</th>\n",
       "      <th>DAY_OF_MONTH</th>\n",
       "      <th>DAY_OF_WEEK</th>\n",
       "      <th>FL_DATE</th>\n",
       "      <th>OP_UNIQUE_CARRIER</th>\n",
       "      <th>OP_CARRIER_AIRLINE_ID</th>\n",
       "      <th>OP_CARRIER</th>\n",
       "      <th>TAIL_NUM</th>\n",
       "      <th>...</th>\n",
       "      <th>DIV_ARR_DELAY</th>\n",
       "      <th>DIV_DISTANCE</th>\n",
       "      <th>DIV1_AIRPORT</th>\n",
       "      <th>DIV1_AIRPORT_ID</th>\n",
       "      <th>DIV1_AIRPORT_SEQ_ID</th>\n",
       "      <th>DIV1_WHEELS_ON</th>\n",
       "      <th>DIV1_TOTAL_GTIME</th>\n",
       "      <th>DIV1_LONGEST_GTIME</th>\n",
       "      <th>DIV1_WHEELS_OFF</th>\n",
       "      <th>DIV1_TAIL_NUM</th>\n",
       "    </tr>\n",
       "  </thead>\n",
       "  <tbody>\n",
       "    <tr>\n",
       "      <th>6067</th>\n",
       "      <td>2018</td>\n",
       "      <td>1</td>\n",
       "      <td>1</td>\n",
       "      <td>22</td>\n",
       "      <td>1</td>\n",
       "      <td>2018-01-22</td>\n",
       "      <td>UA</td>\n",
       "      <td>19977</td>\n",
       "      <td>UA</td>\n",
       "      <td>NaN</td>\n",
       "      <td>...</td>\n",
       "      <td>NaN</td>\n",
       "      <td>NaN</td>\n",
       "      <td>NaN</td>\n",
       "      <td>NaN</td>\n",
       "      <td>NaN</td>\n",
       "      <td>NaN</td>\n",
       "      <td>NaN</td>\n",
       "      <td>NaN</td>\n",
       "      <td>NaN</td>\n",
       "      <td>NaN</td>\n",
       "    </tr>\n",
       "    <tr>\n",
       "      <th>6234</th>\n",
       "      <td>2018</td>\n",
       "      <td>1</td>\n",
       "      <td>1</td>\n",
       "      <td>22</td>\n",
       "      <td>1</td>\n",
       "      <td>2018-01-22</td>\n",
       "      <td>UA</td>\n",
       "      <td>19977</td>\n",
       "      <td>UA</td>\n",
       "      <td>NaN</td>\n",
       "      <td>...</td>\n",
       "      <td>NaN</td>\n",
       "      <td>NaN</td>\n",
       "      <td>NaN</td>\n",
       "      <td>NaN</td>\n",
       "      <td>NaN</td>\n",
       "      <td>NaN</td>\n",
       "      <td>NaN</td>\n",
       "      <td>NaN</td>\n",
       "      <td>NaN</td>\n",
       "      <td>NaN</td>\n",
       "    </tr>\n",
       "    <tr>\n",
       "      <th>6383</th>\n",
       "      <td>2018</td>\n",
       "      <td>1</td>\n",
       "      <td>1</td>\n",
       "      <td>22</td>\n",
       "      <td>1</td>\n",
       "      <td>2018-01-22</td>\n",
       "      <td>UA</td>\n",
       "      <td>19977</td>\n",
       "      <td>UA</td>\n",
       "      <td>NaN</td>\n",
       "      <td>...</td>\n",
       "      <td>NaN</td>\n",
       "      <td>NaN</td>\n",
       "      <td>NaN</td>\n",
       "      <td>NaN</td>\n",
       "      <td>NaN</td>\n",
       "      <td>NaN</td>\n",
       "      <td>NaN</td>\n",
       "      <td>NaN</td>\n",
       "      <td>NaN</td>\n",
       "      <td>NaN</td>\n",
       "    </tr>\n",
       "    <tr>\n",
       "      <th>6633</th>\n",
       "      <td>2018</td>\n",
       "      <td>1</td>\n",
       "      <td>1</td>\n",
       "      <td>22</td>\n",
       "      <td>1</td>\n",
       "      <td>2018-01-22</td>\n",
       "      <td>UA</td>\n",
       "      <td>19977</td>\n",
       "      <td>UA</td>\n",
       "      <td>NaN</td>\n",
       "      <td>...</td>\n",
       "      <td>NaN</td>\n",
       "      <td>NaN</td>\n",
       "      <td>NaN</td>\n",
       "      <td>NaN</td>\n",
       "      <td>NaN</td>\n",
       "      <td>NaN</td>\n",
       "      <td>NaN</td>\n",
       "      <td>NaN</td>\n",
       "      <td>NaN</td>\n",
       "      <td>NaN</td>\n",
       "    </tr>\n",
       "    <tr>\n",
       "      <th>6763</th>\n",
       "      <td>2018</td>\n",
       "      <td>1</td>\n",
       "      <td>1</td>\n",
       "      <td>22</td>\n",
       "      <td>1</td>\n",
       "      <td>2018-01-22</td>\n",
       "      <td>UA</td>\n",
       "      <td>19977</td>\n",
       "      <td>UA</td>\n",
       "      <td>NaN</td>\n",
       "      <td>...</td>\n",
       "      <td>NaN</td>\n",
       "      <td>NaN</td>\n",
       "      <td>NaN</td>\n",
       "      <td>NaN</td>\n",
       "      <td>NaN</td>\n",
       "      <td>NaN</td>\n",
       "      <td>NaN</td>\n",
       "      <td>NaN</td>\n",
       "      <td>NaN</td>\n",
       "      <td>NaN</td>\n",
       "    </tr>\n",
       "  </tbody>\n",
       "</table>\n",
       "<p>5 rows × 76 columns</p>\n",
       "</div>"
      ],
      "text/plain": [
       "      YEAR  QUARTER  MONTH  DAY_OF_MONTH  DAY_OF_WEEK     FL_DATE  \\\n",
       "6067  2018        1      1            22            1  2018-01-22   \n",
       "6234  2018        1      1            22            1  2018-01-22   \n",
       "6383  2018        1      1            22            1  2018-01-22   \n",
       "6633  2018        1      1            22            1  2018-01-22   \n",
       "6763  2018        1      1            22            1  2018-01-22   \n",
       "\n",
       "     OP_UNIQUE_CARRIER  OP_CARRIER_AIRLINE_ID OP_CARRIER TAIL_NUM  ...  \\\n",
       "6067                UA                  19977         UA      NaN  ...   \n",
       "6234                UA                  19977         UA      NaN  ...   \n",
       "6383                UA                  19977         UA      NaN  ...   \n",
       "6633                UA                  19977         UA      NaN  ...   \n",
       "6763                UA                  19977         UA      NaN  ...   \n",
       "\n",
       "      DIV_ARR_DELAY  DIV_DISTANCE  DIV1_AIRPORT  DIV1_AIRPORT_ID  \\\n",
       "6067            NaN           NaN           NaN              NaN   \n",
       "6234            NaN           NaN           NaN              NaN   \n",
       "6383            NaN           NaN           NaN              NaN   \n",
       "6633            NaN           NaN           NaN              NaN   \n",
       "6763            NaN           NaN           NaN              NaN   \n",
       "\n",
       "     DIV1_AIRPORT_SEQ_ID DIV1_WHEELS_ON DIV1_TOTAL_GTIME  DIV1_LONGEST_GTIME  \\\n",
       "6067                 NaN            NaN              NaN                 NaN   \n",
       "6234                 NaN            NaN              NaN                 NaN   \n",
       "6383                 NaN            NaN              NaN                 NaN   \n",
       "6633                 NaN            NaN              NaN                 NaN   \n",
       "6763                 NaN            NaN              NaN                 NaN   \n",
       "\n",
       "     DIV1_WHEELS_OFF  DIV1_TAIL_NUM  \n",
       "6067             NaN            NaN  \n",
       "6234             NaN            NaN  \n",
       "6383             NaN            NaN  \n",
       "6633             NaN            NaN  \n",
       "6763             NaN            NaN  \n",
       "\n",
       "[5 rows x 76 columns]"
      ]
     },
     "execution_count": 15,
     "metadata": {},
     "output_type": "execute_result"
    }
   ],
   "source": [
    "# Getting the view of the rows with canceled flights\n",
    "df[df['CANCELLED'] == 1].head()"
   ]
  },
  {
   "cell_type": "markdown",
   "metadata": {},
   "source": [
    "**Observation:**  \n",
    "Based on our observation, information about canceled flights is about flights that never made to the destination point and delay related columns in these rows are about the cancelation only. To keep data related only to flights that took place, we decided to delete these rows."
   ]
  },
  {
   "cell_type": "code",
   "execution_count": 16,
   "metadata": {},
   "outputs": [],
   "source": [
    "# Saving never canceled flights \n",
    "df = df[df['CANCELLED'] == 0]"
   ]
  },
  {
   "cell_type": "code",
   "execution_count": 17,
   "metadata": {},
   "outputs": [],
   "source": [
    "# Deleting the whole column 'CANCELLED', since it has no value\n",
    "df = df.drop('CANCELLED', axis=1)"
   ]
  },
  {
   "cell_type": "code",
   "execution_count": 18,
   "metadata": {},
   "outputs": [
    {
     "data": {
      "text/plain": [
       "(7096862, 75)"
      ]
     },
     "execution_count": 18,
     "metadata": {},
     "output_type": "execute_result"
    }
   ],
   "source": [
    "# Checking the size of the new dataframe with departed flights\n",
    "df.shape"
   ]
  },
  {
   "cell_type": "markdown",
   "metadata": {},
   "source": [
    "### Checking Null Values"
   ]
  },
  {
   "cell_type": "code",
   "execution_count": 19,
   "metadata": {},
   "outputs": [
    {
     "data": {
      "text/plain": [
       "DEP_DELAY                     4743\n",
       "DEP_DELAY_NEW                 4743\n",
       "DEP_DEL15                     4743\n",
       "DEP_DELAY_GROUP               4743\n",
       "WHEELS_ON                     2662\n",
       "TAXI_IN                       2662\n",
       "ARR_TIME                      2661\n",
       "ARR_DELAY                    20456\n",
       "ARR_DELAY_NEW                20456\n",
       "ARR_DEL15                    20456\n",
       "ARR_DELAY_GROUP              20456\n",
       "CRS_ELAPSED_TIME                 7\n",
       "ACTUAL_ELAPSED_TIME          17858\n",
       "AIR_TIME                     17858\n",
       "CARRIER_DELAY              5744152\n",
       "WEATHER_DELAY              5744152\n",
       "NAS_DELAY                  5744152\n",
       "SECURITY_DELAY             5744152\n",
       "LATE_AIRCRAFT_DELAY        5744152\n",
       "FIRST_DEP_TIME             7053323\n",
       "TOTAL_ADD_GTIME            7053324\n",
       "LONGEST_ADD_GTIME          7053324\n",
       "DIV_REACHED_DEST           7079005\n",
       "DIV_ACTUAL_ELAPSED_TIME    7081666\n",
       "DIV_ARR_DELAY              7081666\n",
       "DIV_DISTANCE               7079007\n",
       "DIV1_AIRPORT               7079005\n",
       "DIV1_AIRPORT_ID            7079005\n",
       "DIV1_AIRPORT_SEQ_ID        7079005\n",
       "DIV1_WHEELS_ON             7079005\n",
       "DIV1_TOTAL_GTIME           7079005\n",
       "DIV1_LONGEST_GTIME         7079005\n",
       "DIV1_WHEELS_OFF            7081592\n",
       "DIV1_TAIL_NUM              7081590\n",
       "dtype: int64"
      ]
     },
     "execution_count": 19,
     "metadata": {},
     "output_type": "execute_result"
    }
   ],
   "source": [
    "# Getting a sum of rows with null vallues per column \n",
    "df.isnull().sum()[df.isnull().sum()>0]"
   ]
  },
  {
   "cell_type": "markdown",
   "metadata": {},
   "source": [
    "**Observation:**  \n",
    "We will also leave columns related to arrival, but delete columns that mostly have null values throughout. "
   ]
  },
  {
   "cell_type": "code",
   "execution_count": 20,
   "metadata": {},
   "outputs": [],
   "source": [
    "# Getting the list of all columns that we need to drop\n",
    "list_cols_to_drop = ['CARRIER_DELAY','WEATHER_DELAY',\n",
    "                     'NAS_DELAY','SECURITY_DELAY',\n",
    "                     'LATE_AIRCRAFT_DELAY',\"FIRST_DEP_TIME\", \n",
    "                     \"TOTAL_ADD_GTIME\",\n",
    "                     \"LONGEST_ADD_GTIME\", \"DIV_REACHED_DEST\",\n",
    "                     \"DIV_ACTUAL_ELAPSED_TIME\", \"DIV_ARR_DELAY\",\n",
    "                     \"DIV_DISTANCE\", \"DIV1_AIRPORT\", \"DIV1_AIRPORT_ID\",\n",
    "                     \"DIV1_AIRPORT_SEQ_ID\", \"DIV1_WHEELS_ON\",\n",
    "                     \"DIV1_TOTAL_GTIME\", \"DIV1_LONGEST_GTIME\",\n",
    "                     \"DIV1_WHEELS_OFF\", \"DIV1_TAIL_NUM\"]\n",
    "\n",
    "# Dropping all unnecessary columns from dataset\n",
    "df = df.drop(list_cols_to_drop, axis=1)"
   ]
  },
  {
   "cell_type": "markdown",
   "metadata": {},
   "source": [
    "**Observation:**  \n",
    "Since 'CRS_ELAPSED_TIME' column represents number of minutes in air, and we cant calculate or impute these values, we may delete these 7 rows with null values."
   ]
  },
  {
   "cell_type": "code",
   "execution_count": 21,
   "metadata": {},
   "outputs": [],
   "source": [
    "# Deleting rows with null values in column CRS_ELAPSED_TIME\n",
    "df.dropna(subset=['CRS_ELAPSED_TIME'], inplace=True)"
   ]
  },
  {
   "cell_type": "code",
   "execution_count": 22,
   "metadata": {},
   "outputs": [],
   "source": [
    "# For flights departured on time, set 'departure delay' to 0\n",
    "df.loc[df.CRS_DEP_TIME == df.DEP_TIME, 'DEP_DELAY'] = 0\n",
    "\n",
    "# Setting to 0 to departure delay related columns if delay is 0\n",
    "df.loc[df.DEP_DELAY <= 0, 'DEP_DELAY_NEW'] = 0\n",
    "df.loc[df.DEP_DELAY <= 0, 'DEP_DEL15'] = 0\n",
    "df.loc[df.DEP_DELAY <= 0, 'DEP_DELAY_GROUP'] = 0"
   ]
  },
  {
   "cell_type": "code",
   "execution_count": 23,
   "metadata": {},
   "outputs": [
    {
     "data": {
      "text/plain": [
       "DEP_DELAY                  4\n",
       "DEP_DELAY_NEW              4\n",
       "DEP_DEL15                  4\n",
       "DEP_DELAY_GROUP            4\n",
       "WHEELS_ON               2662\n",
       "TAXI_IN                 2662\n",
       "ARR_TIME                2661\n",
       "ARR_DELAY              20449\n",
       "ARR_DELAY_NEW          20449\n",
       "ARR_DEL15              20449\n",
       "ARR_DELAY_GROUP        20449\n",
       "ACTUAL_ELAPSED_TIME    17851\n",
       "AIR_TIME               17851\n",
       "dtype: int64"
      ]
     },
     "execution_count": 23,
     "metadata": {},
     "output_type": "execute_result"
    }
   ],
   "source": [
    "# Checking the count of all null values again\n",
    "df.isnull().sum()[df.isnull().sum()>0]"
   ]
  },
  {
   "cell_type": "markdown",
   "metadata": {},
   "source": [
    "**Observation:**  \n",
    "We note that there are 4 rows with missing data on Departure Delay related columns. Hypothetically, we can calculate those and impute the proper values. But the time put into calculating the difference between the actual departure and scheduled departure times will be unproductive and time consuming in this case. We decided to delete these 4 rows."
   ]
  },
  {
   "cell_type": "code",
   "execution_count": 24,
   "metadata": {},
   "outputs": [],
   "source": [
    "# Deleting rows with null values in column DEP_DELAY\n",
    "df.dropna(subset=['DEP_DELAY'], inplace=True)"
   ]
  },
  {
   "cell_type": "code",
   "execution_count": 25,
   "metadata": {},
   "outputs": [
    {
     "data": {
      "text/plain": [
       "WHEELS_ON               2658\n",
       "TAXI_IN                 2658\n",
       "ARR_TIME                2657\n",
       "ARR_DELAY              20445\n",
       "ARR_DELAY_NEW          20445\n",
       "ARR_DEL15              20445\n",
       "ARR_DELAY_GROUP        20445\n",
       "ACTUAL_ELAPSED_TIME    17847\n",
       "AIR_TIME               17847\n",
       "dtype: int64"
      ]
     },
     "execution_count": 25,
     "metadata": {},
     "output_type": "execute_result"
    }
   ],
   "source": [
    "# Checking the count of all null values again\n",
    "df.isnull().sum()[df.isnull().sum()>0]"
   ]
  },
  {
   "cell_type": "markdown",
   "metadata": {},
   "source": [
    "**Observation**  \n",
    "Columns 'WHEELS_ON','TAXI_IN', 'ACTUAL_ELAPSED_TIME' and other Arrival related columns, we might need them in the future and we wont touch rows or columns with null values in these columns. "
   ]
  },
  {
   "cell_type": "code",
   "execution_count": 26,
   "metadata": {},
   "outputs": [
    {
     "data": {
      "text/plain": [
       "array([1.])"
      ]
     },
     "execution_count": 26,
     "metadata": {},
     "output_type": "execute_result"
    }
   ],
   "source": [
    "# Viewing all possible values for column FLIGHTS\n",
    "df['FLIGHTS'].unique()"
   ]
  },
  {
   "cell_type": "markdown",
   "metadata": {},
   "source": [
    "**Observation:**  \n",
    "There is only one value in column FLIGHTS, so we can remove this column as well"
   ]
  },
  {
   "cell_type": "code",
   "execution_count": 27,
   "metadata": {},
   "outputs": [],
   "source": [
    "# Dropping column FLIGHTS\n",
    "df = df.drop('FLIGHTS', axis=1)"
   ]
  },
  {
   "cell_type": "code",
   "execution_count": 28,
   "metadata": {},
   "outputs": [
    {
     "data": {
      "text/plain": [
       "(7096851, 54)"
      ]
     },
     "execution_count": 28,
     "metadata": {},
     "output_type": "execute_result"
    }
   ],
   "source": [
    "# Checking the total number of rows and columns for resulting dataframe\n",
    "df.shape"
   ]
  },
  {
   "cell_type": "markdown",
   "metadata": {},
   "source": [
    "### Saving Cleaned Data to File"
   ]
  },
  {
   "cell_type": "code",
   "execution_count": 29,
   "metadata": {},
   "outputs": [],
   "source": [
    "# Saving clean dataframe to 2018_reporting_clean.csv file\n",
    "df.to_csv('../data/2018_reporting_clean.csv', index = False)"
   ]
  }
 ],
 "metadata": {
  "kernelspec": {
   "display_name": "Python 3",
   "language": "python",
   "name": "python3"
  },
  "language_info": {
   "codemirror_mode": {
    "name": "ipython",
    "version": 3
   },
   "file_extension": ".py",
   "mimetype": "text/x-python",
   "name": "python",
   "nbconvert_exporter": "python",
   "pygments_lexer": "ipython3",
   "version": "3.7.4"
  }
 },
 "nbformat": 4,
 "nbformat_minor": 2
}
